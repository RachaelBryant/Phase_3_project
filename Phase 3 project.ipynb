{
 "cells": [
  {
   "cell_type": "markdown",
   "id": "c161de5e",
   "metadata": {},
   "source": [
    " # SyriaTel Customer Churn Analysis"
   ]
  },
  {
   "cell_type": "markdown",
   "id": "09b7628f",
   "metadata": {},
   "source": [
    "<img src=\"images/syriaTellogo.jpg\" width=200 height=200 />\n"
   ]
  },
  {
   "cell_type": "markdown",
   "id": "8d50780f",
   "metadata": {},
   "source": [
    "## Overview "
   ]
  },
  {
   "cell_type": "markdown",
   "id": "600d3576",
   "metadata": {},
   "source": [
    "This project analyses aspects of telecommunications to understand what causes people to stop taking the calls/doing business with them. This project primarily uses logistic regression, k nearest neighbor, and random forest to understand this binary classification problem."
   ]
  },
  {
   "cell_type": "markdown",
   "id": "1656fc2b",
   "metadata": {},
   "source": [
    "## Business Problem"
   ]
  },
  {
   "cell_type": "markdown",
   "id": "3cd95a76",
   "metadata": {},
   "source": [
    "<img src=\"images/syriaTel.jpg\" width=200 height=200 />"
   ]
  },
  {
   "cell_type": "markdown",
   "id": "59b78686",
   "metadata": {},
   "source": [
    "SyriaTel, a telecommunications company wants to know whether there are any indicators of whether a customer will stop doing business with them. The goal is to predict what measures are causing customers to 'churn' or leave the Telecom company. This could lead to customer retention if understanding what aspects of the customer interaction are causing them to 'churn'. "
   ]
  },
  {
   "cell_type": "markdown",
   "id": "12a86aed",
   "metadata": {},
   "source": [
    "## Data Understanding"
   ]
  },
  {
   "cell_type": "code",
   "execution_count": 1,
   "id": "6687b260",
   "metadata": {},
   "outputs": [],
   "source": [
    "#import necessary libraries\n",
    "import pandas as pd \n",
    "import numpy as np \n",
    "import seaborn as sns\n",
    "import matplotlib.pyplot as plt\n",
    "%matplotlib inline\n",
    "import sklearn\n",
    "from sklearn.model_selection import train_test_split\n",
    "from sklearn.tree import DecisionTreeClassifier \n",
    "from sklearn.metrics import accuracy_score, roc_curve, auc\n",
    "from sklearn import tree \n",
    "from sklearn.preprocessing import OneHotEncoder\n",
    "from sklearn.model_selection import train_test_split, GridSearchCV, cross_val_score\n",
    "from sklearn.ensemble import RandomForestClassifier, AdaBoostClassifier\n",
    "from sklearn.metrics import accuracy_score, confusion_matrix, classification_report, recall_score,precision_score,f1_score,log_loss\n",
    "from sklearn.metrics import classification_report\n",
    "from sklearn.tree import DecisionTreeClassifier\n",
    "from sklearn.ensemble import BaggingClassifier, RandomForestClassifier\n",
    "from sklearn.preprocessing import StandardScaler\n",
    "from sklearn.linear_model import LogisticRegression\n",
    "from sklearn.metrics import roc_auc_score\n",
    "from sklearn.metrics import ConfusionMatrixDisplay\n",
    "from sklearn.neighbors import KNeighborsClassifier\n",
    "import warnings; warnings.filterwarnings('ignore')\n",
    "from sklearn import metrics\n",
    "from sklearn.ensemble import RandomForestRegressor\n",
    "from sklearn.naive_bayes import GaussianNB\n",
    "from sklearn.svm import LinearSVC\n",
    "from sklearn.model_selection import RandomizedSearchCV\n",
    "from tabulate import tabulate\n",
    "import dataframe_image as dfi\n",
    "from pandas.plotting import table "
   ]
  },
  {
   "cell_type": "code",
   "execution_count": 2,
   "id": "d6dd476c",
   "metadata": {
    "scrolled": true
   },
   "outputs": [
    {
     "data": {
      "text/html": [
       "<div>\n",
       "<style scoped>\n",
       "    .dataframe tbody tr th:only-of-type {\n",
       "        vertical-align: middle;\n",
       "    }\n",
       "\n",
       "    .dataframe tbody tr th {\n",
       "        vertical-align: top;\n",
       "    }\n",
       "\n",
       "    .dataframe thead th {\n",
       "        text-align: right;\n",
       "    }\n",
       "</style>\n",
       "<table border=\"1\" class=\"dataframe\">\n",
       "  <thead>\n",
       "    <tr style=\"text-align: right;\">\n",
       "      <th></th>\n",
       "      <th>state</th>\n",
       "      <th>account length</th>\n",
       "      <th>area code</th>\n",
       "      <th>phone number</th>\n",
       "      <th>international plan</th>\n",
       "      <th>voice mail plan</th>\n",
       "      <th>number vmail messages</th>\n",
       "      <th>total day minutes</th>\n",
       "      <th>total day calls</th>\n",
       "      <th>total day charge</th>\n",
       "      <th>...</th>\n",
       "      <th>total eve calls</th>\n",
       "      <th>total eve charge</th>\n",
       "      <th>total night minutes</th>\n",
       "      <th>total night calls</th>\n",
       "      <th>total night charge</th>\n",
       "      <th>total intl minutes</th>\n",
       "      <th>total intl calls</th>\n",
       "      <th>total intl charge</th>\n",
       "      <th>customer service calls</th>\n",
       "      <th>churn</th>\n",
       "    </tr>\n",
       "  </thead>\n",
       "  <tbody>\n",
       "    <tr>\n",
       "      <th>0</th>\n",
       "      <td>KS</td>\n",
       "      <td>128</td>\n",
       "      <td>415</td>\n",
       "      <td>382-4657</td>\n",
       "      <td>no</td>\n",
       "      <td>yes</td>\n",
       "      <td>25</td>\n",
       "      <td>265.1</td>\n",
       "      <td>110</td>\n",
       "      <td>45.07</td>\n",
       "      <td>...</td>\n",
       "      <td>99</td>\n",
       "      <td>16.78</td>\n",
       "      <td>244.7</td>\n",
       "      <td>91</td>\n",
       "      <td>11.01</td>\n",
       "      <td>10.0</td>\n",
       "      <td>3</td>\n",
       "      <td>2.70</td>\n",
       "      <td>1</td>\n",
       "      <td>False</td>\n",
       "    </tr>\n",
       "    <tr>\n",
       "      <th>1</th>\n",
       "      <td>OH</td>\n",
       "      <td>107</td>\n",
       "      <td>415</td>\n",
       "      <td>371-7191</td>\n",
       "      <td>no</td>\n",
       "      <td>yes</td>\n",
       "      <td>26</td>\n",
       "      <td>161.6</td>\n",
       "      <td>123</td>\n",
       "      <td>27.47</td>\n",
       "      <td>...</td>\n",
       "      <td>103</td>\n",
       "      <td>16.62</td>\n",
       "      <td>254.4</td>\n",
       "      <td>103</td>\n",
       "      <td>11.45</td>\n",
       "      <td>13.7</td>\n",
       "      <td>3</td>\n",
       "      <td>3.70</td>\n",
       "      <td>1</td>\n",
       "      <td>False</td>\n",
       "    </tr>\n",
       "    <tr>\n",
       "      <th>2</th>\n",
       "      <td>NJ</td>\n",
       "      <td>137</td>\n",
       "      <td>415</td>\n",
       "      <td>358-1921</td>\n",
       "      <td>no</td>\n",
       "      <td>no</td>\n",
       "      <td>0</td>\n",
       "      <td>243.4</td>\n",
       "      <td>114</td>\n",
       "      <td>41.38</td>\n",
       "      <td>...</td>\n",
       "      <td>110</td>\n",
       "      <td>10.30</td>\n",
       "      <td>162.6</td>\n",
       "      <td>104</td>\n",
       "      <td>7.32</td>\n",
       "      <td>12.2</td>\n",
       "      <td>5</td>\n",
       "      <td>3.29</td>\n",
       "      <td>0</td>\n",
       "      <td>False</td>\n",
       "    </tr>\n",
       "    <tr>\n",
       "      <th>3</th>\n",
       "      <td>OH</td>\n",
       "      <td>84</td>\n",
       "      <td>408</td>\n",
       "      <td>375-9999</td>\n",
       "      <td>yes</td>\n",
       "      <td>no</td>\n",
       "      <td>0</td>\n",
       "      <td>299.4</td>\n",
       "      <td>71</td>\n",
       "      <td>50.90</td>\n",
       "      <td>...</td>\n",
       "      <td>88</td>\n",
       "      <td>5.26</td>\n",
       "      <td>196.9</td>\n",
       "      <td>89</td>\n",
       "      <td>8.86</td>\n",
       "      <td>6.6</td>\n",
       "      <td>7</td>\n",
       "      <td>1.78</td>\n",
       "      <td>2</td>\n",
       "      <td>False</td>\n",
       "    </tr>\n",
       "    <tr>\n",
       "      <th>4</th>\n",
       "      <td>OK</td>\n",
       "      <td>75</td>\n",
       "      <td>415</td>\n",
       "      <td>330-6626</td>\n",
       "      <td>yes</td>\n",
       "      <td>no</td>\n",
       "      <td>0</td>\n",
       "      <td>166.7</td>\n",
       "      <td>113</td>\n",
       "      <td>28.34</td>\n",
       "      <td>...</td>\n",
       "      <td>122</td>\n",
       "      <td>12.61</td>\n",
       "      <td>186.9</td>\n",
       "      <td>121</td>\n",
       "      <td>8.41</td>\n",
       "      <td>10.1</td>\n",
       "      <td>3</td>\n",
       "      <td>2.73</td>\n",
       "      <td>3</td>\n",
       "      <td>False</td>\n",
       "    </tr>\n",
       "  </tbody>\n",
       "</table>\n",
       "<p>5 rows × 21 columns</p>\n",
       "</div>"
      ],
      "text/plain": [
       "  state  account length  area code phone number international plan  \\\n",
       "0    KS             128        415     382-4657                 no   \n",
       "1    OH             107        415     371-7191                 no   \n",
       "2    NJ             137        415     358-1921                 no   \n",
       "3    OH              84        408     375-9999                yes   \n",
       "4    OK              75        415     330-6626                yes   \n",
       "\n",
       "  voice mail plan  number vmail messages  total day minutes  total day calls  \\\n",
       "0             yes                     25              265.1              110   \n",
       "1             yes                     26              161.6              123   \n",
       "2              no                      0              243.4              114   \n",
       "3              no                      0              299.4               71   \n",
       "4              no                      0              166.7              113   \n",
       "\n",
       "   total day charge  ...  total eve calls  total eve charge  \\\n",
       "0             45.07  ...               99             16.78   \n",
       "1             27.47  ...              103             16.62   \n",
       "2             41.38  ...              110             10.30   \n",
       "3             50.90  ...               88              5.26   \n",
       "4             28.34  ...              122             12.61   \n",
       "\n",
       "   total night minutes  total night calls  total night charge  \\\n",
       "0                244.7                 91               11.01   \n",
       "1                254.4                103               11.45   \n",
       "2                162.6                104                7.32   \n",
       "3                196.9                 89                8.86   \n",
       "4                186.9                121                8.41   \n",
       "\n",
       "   total intl minutes  total intl calls  total intl charge  \\\n",
       "0                10.0                 3               2.70   \n",
       "1                13.7                 3               3.70   \n",
       "2                12.2                 5               3.29   \n",
       "3                 6.6                 7               1.78   \n",
       "4                10.1                 3               2.73   \n",
       "\n",
       "   customer service calls  churn  \n",
       "0                       1  False  \n",
       "1                       1  False  \n",
       "2                       0  False  \n",
       "3                       2  False  \n",
       "4                       3  False  \n",
       "\n",
       "[5 rows x 21 columns]"
      ]
     },
     "execution_count": 2,
     "metadata": {},
     "output_type": "execute_result"
    }
   ],
   "source": [
    "#load data from csv file\n",
    "df = pd.read_csv('data/SyriaTeldata.csv')\n",
    "df.head()"
   ]
  },
  {
   "cell_type": "code",
   "execution_count": 3,
   "id": "77b04fa2",
   "metadata": {},
   "outputs": [
    {
     "data": {
      "text/html": [
       "<div>\n",
       "<style scoped>\n",
       "    .dataframe tbody tr th:only-of-type {\n",
       "        vertical-align: middle;\n",
       "    }\n",
       "\n",
       "    .dataframe tbody tr th {\n",
       "        vertical-align: top;\n",
       "    }\n",
       "\n",
       "    .dataframe thead th {\n",
       "        text-align: right;\n",
       "    }\n",
       "</style>\n",
       "<table border=\"1\" class=\"dataframe\">\n",
       "  <thead>\n",
       "    <tr style=\"text-align: right;\">\n",
       "      <th></th>\n",
       "      <th>account length</th>\n",
       "      <th>area code</th>\n",
       "      <th>number vmail messages</th>\n",
       "      <th>total day minutes</th>\n",
       "      <th>total day calls</th>\n",
       "      <th>total day charge</th>\n",
       "      <th>total eve minutes</th>\n",
       "      <th>total eve calls</th>\n",
       "      <th>total eve charge</th>\n",
       "      <th>total night minutes</th>\n",
       "      <th>total night calls</th>\n",
       "      <th>total night charge</th>\n",
       "      <th>total intl minutes</th>\n",
       "      <th>total intl calls</th>\n",
       "      <th>total intl charge</th>\n",
       "      <th>customer service calls</th>\n",
       "    </tr>\n",
       "  </thead>\n",
       "  <tbody>\n",
       "    <tr>\n",
       "      <th>count</th>\n",
       "      <td>3333.000000</td>\n",
       "      <td>3333.000000</td>\n",
       "      <td>3333.000000</td>\n",
       "      <td>3333.000000</td>\n",
       "      <td>3333.000000</td>\n",
       "      <td>3333.000000</td>\n",
       "      <td>3333.000000</td>\n",
       "      <td>3333.000000</td>\n",
       "      <td>3333.000000</td>\n",
       "      <td>3333.000000</td>\n",
       "      <td>3333.000000</td>\n",
       "      <td>3333.000000</td>\n",
       "      <td>3333.000000</td>\n",
       "      <td>3333.000000</td>\n",
       "      <td>3333.000000</td>\n",
       "      <td>3333.000000</td>\n",
       "    </tr>\n",
       "    <tr>\n",
       "      <th>mean</th>\n",
       "      <td>101.064806</td>\n",
       "      <td>437.182418</td>\n",
       "      <td>8.099010</td>\n",
       "      <td>179.775098</td>\n",
       "      <td>100.435644</td>\n",
       "      <td>30.562307</td>\n",
       "      <td>200.980348</td>\n",
       "      <td>100.114311</td>\n",
       "      <td>17.083540</td>\n",
       "      <td>200.872037</td>\n",
       "      <td>100.107711</td>\n",
       "      <td>9.039325</td>\n",
       "      <td>10.237294</td>\n",
       "      <td>4.479448</td>\n",
       "      <td>2.764581</td>\n",
       "      <td>1.562856</td>\n",
       "    </tr>\n",
       "    <tr>\n",
       "      <th>std</th>\n",
       "      <td>39.822106</td>\n",
       "      <td>42.371290</td>\n",
       "      <td>13.688365</td>\n",
       "      <td>54.467389</td>\n",
       "      <td>20.069084</td>\n",
       "      <td>9.259435</td>\n",
       "      <td>50.713844</td>\n",
       "      <td>19.922625</td>\n",
       "      <td>4.310668</td>\n",
       "      <td>50.573847</td>\n",
       "      <td>19.568609</td>\n",
       "      <td>2.275873</td>\n",
       "      <td>2.791840</td>\n",
       "      <td>2.461214</td>\n",
       "      <td>0.753773</td>\n",
       "      <td>1.315491</td>\n",
       "    </tr>\n",
       "    <tr>\n",
       "      <th>min</th>\n",
       "      <td>1.000000</td>\n",
       "      <td>408.000000</td>\n",
       "      <td>0.000000</td>\n",
       "      <td>0.000000</td>\n",
       "      <td>0.000000</td>\n",
       "      <td>0.000000</td>\n",
       "      <td>0.000000</td>\n",
       "      <td>0.000000</td>\n",
       "      <td>0.000000</td>\n",
       "      <td>23.200000</td>\n",
       "      <td>33.000000</td>\n",
       "      <td>1.040000</td>\n",
       "      <td>0.000000</td>\n",
       "      <td>0.000000</td>\n",
       "      <td>0.000000</td>\n",
       "      <td>0.000000</td>\n",
       "    </tr>\n",
       "    <tr>\n",
       "      <th>25%</th>\n",
       "      <td>74.000000</td>\n",
       "      <td>408.000000</td>\n",
       "      <td>0.000000</td>\n",
       "      <td>143.700000</td>\n",
       "      <td>87.000000</td>\n",
       "      <td>24.430000</td>\n",
       "      <td>166.600000</td>\n",
       "      <td>87.000000</td>\n",
       "      <td>14.160000</td>\n",
       "      <td>167.000000</td>\n",
       "      <td>87.000000</td>\n",
       "      <td>7.520000</td>\n",
       "      <td>8.500000</td>\n",
       "      <td>3.000000</td>\n",
       "      <td>2.300000</td>\n",
       "      <td>1.000000</td>\n",
       "    </tr>\n",
       "    <tr>\n",
       "      <th>50%</th>\n",
       "      <td>101.000000</td>\n",
       "      <td>415.000000</td>\n",
       "      <td>0.000000</td>\n",
       "      <td>179.400000</td>\n",
       "      <td>101.000000</td>\n",
       "      <td>30.500000</td>\n",
       "      <td>201.400000</td>\n",
       "      <td>100.000000</td>\n",
       "      <td>17.120000</td>\n",
       "      <td>201.200000</td>\n",
       "      <td>100.000000</td>\n",
       "      <td>9.050000</td>\n",
       "      <td>10.300000</td>\n",
       "      <td>4.000000</td>\n",
       "      <td>2.780000</td>\n",
       "      <td>1.000000</td>\n",
       "    </tr>\n",
       "    <tr>\n",
       "      <th>75%</th>\n",
       "      <td>127.000000</td>\n",
       "      <td>510.000000</td>\n",
       "      <td>20.000000</td>\n",
       "      <td>216.400000</td>\n",
       "      <td>114.000000</td>\n",
       "      <td>36.790000</td>\n",
       "      <td>235.300000</td>\n",
       "      <td>114.000000</td>\n",
       "      <td>20.000000</td>\n",
       "      <td>235.300000</td>\n",
       "      <td>113.000000</td>\n",
       "      <td>10.590000</td>\n",
       "      <td>12.100000</td>\n",
       "      <td>6.000000</td>\n",
       "      <td>3.270000</td>\n",
       "      <td>2.000000</td>\n",
       "    </tr>\n",
       "    <tr>\n",
       "      <th>max</th>\n",
       "      <td>243.000000</td>\n",
       "      <td>510.000000</td>\n",
       "      <td>51.000000</td>\n",
       "      <td>350.800000</td>\n",
       "      <td>165.000000</td>\n",
       "      <td>59.640000</td>\n",
       "      <td>363.700000</td>\n",
       "      <td>170.000000</td>\n",
       "      <td>30.910000</td>\n",
       "      <td>395.000000</td>\n",
       "      <td>175.000000</td>\n",
       "      <td>17.770000</td>\n",
       "      <td>20.000000</td>\n",
       "      <td>20.000000</td>\n",
       "      <td>5.400000</td>\n",
       "      <td>9.000000</td>\n",
       "    </tr>\n",
       "  </tbody>\n",
       "</table>\n",
       "</div>"
      ],
      "text/plain": [
       "       account length    area code  number vmail messages  total day minutes  \\\n",
       "count     3333.000000  3333.000000            3333.000000        3333.000000   \n",
       "mean       101.064806   437.182418               8.099010         179.775098   \n",
       "std         39.822106    42.371290              13.688365          54.467389   \n",
       "min          1.000000   408.000000               0.000000           0.000000   \n",
       "25%         74.000000   408.000000               0.000000         143.700000   \n",
       "50%        101.000000   415.000000               0.000000         179.400000   \n",
       "75%        127.000000   510.000000              20.000000         216.400000   \n",
       "max        243.000000   510.000000              51.000000         350.800000   \n",
       "\n",
       "       total day calls  total day charge  total eve minutes  total eve calls  \\\n",
       "count      3333.000000       3333.000000        3333.000000      3333.000000   \n",
       "mean        100.435644         30.562307         200.980348       100.114311   \n",
       "std          20.069084          9.259435          50.713844        19.922625   \n",
       "min           0.000000          0.000000           0.000000         0.000000   \n",
       "25%          87.000000         24.430000         166.600000        87.000000   \n",
       "50%         101.000000         30.500000         201.400000       100.000000   \n",
       "75%         114.000000         36.790000         235.300000       114.000000   \n",
       "max         165.000000         59.640000         363.700000       170.000000   \n",
       "\n",
       "       total eve charge  total night minutes  total night calls  \\\n",
       "count       3333.000000          3333.000000        3333.000000   \n",
       "mean          17.083540           200.872037         100.107711   \n",
       "std            4.310668            50.573847          19.568609   \n",
       "min            0.000000            23.200000          33.000000   \n",
       "25%           14.160000           167.000000          87.000000   \n",
       "50%           17.120000           201.200000         100.000000   \n",
       "75%           20.000000           235.300000         113.000000   \n",
       "max           30.910000           395.000000         175.000000   \n",
       "\n",
       "       total night charge  total intl minutes  total intl calls  \\\n",
       "count         3333.000000         3333.000000       3333.000000   \n",
       "mean             9.039325           10.237294          4.479448   \n",
       "std              2.275873            2.791840          2.461214   \n",
       "min              1.040000            0.000000          0.000000   \n",
       "25%              7.520000            8.500000          3.000000   \n",
       "50%              9.050000           10.300000          4.000000   \n",
       "75%             10.590000           12.100000          6.000000   \n",
       "max             17.770000           20.000000         20.000000   \n",
       "\n",
       "       total intl charge  customer service calls  \n",
       "count        3333.000000             3333.000000  \n",
       "mean            2.764581                1.562856  \n",
       "std             0.753773                1.315491  \n",
       "min             0.000000                0.000000  \n",
       "25%             2.300000                1.000000  \n",
       "50%             2.780000                1.000000  \n",
       "75%             3.270000                2.000000  \n",
       "max             5.400000                9.000000  "
      ]
     },
     "execution_count": 3,
     "metadata": {},
     "output_type": "execute_result"
    }
   ],
   "source": [
    "#inspect data to understand what information SyriaTel has collected\n",
    "df.describe()"
   ]
  },
  {
   "cell_type": "code",
   "execution_count": 4,
   "id": "71bad53f",
   "metadata": {},
   "outputs": [
    {
     "data": {
      "text/plain": [
       "Index(['state', 'account length', 'area code', 'phone number',\n",
       "       'international plan', 'voice mail plan', 'number vmail messages',\n",
       "       'total day minutes', 'total day calls', 'total day charge',\n",
       "       'total eve minutes', 'total eve calls', 'total eve charge',\n",
       "       'total night minutes', 'total night calls', 'total night charge',\n",
       "       'total intl minutes', 'total intl calls', 'total intl charge',\n",
       "       'customer service calls', 'churn'],\n",
       "      dtype='object')"
      ]
     },
     "execution_count": 4,
     "metadata": {},
     "output_type": "execute_result"
    }
   ],
   "source": [
    "#inspect columns\n",
    "df.columns"
   ]
  },
  {
   "cell_type": "code",
   "execution_count": 5,
   "id": "3a22bdd7",
   "metadata": {},
   "outputs": [
    {
     "data": {
      "text/plain": [
       "<bound method DataFrame.value_counts of      state  account length  area code phone number international plan  \\\n",
       "0       KS             128        415     382-4657                 no   \n",
       "1       OH             107        415     371-7191                 no   \n",
       "2       NJ             137        415     358-1921                 no   \n",
       "3       OH              84        408     375-9999                yes   \n",
       "4       OK              75        415     330-6626                yes   \n",
       "...    ...             ...        ...          ...                ...   \n",
       "3328    AZ             192        415     414-4276                 no   \n",
       "3329    WV              68        415     370-3271                 no   \n",
       "3330    RI              28        510     328-8230                 no   \n",
       "3331    CT             184        510     364-6381                yes   \n",
       "3332    TN              74        415     400-4344                 no   \n",
       "\n",
       "     voice mail plan  number vmail messages  total day minutes  \\\n",
       "0                yes                     25              265.1   \n",
       "1                yes                     26              161.6   \n",
       "2                 no                      0              243.4   \n",
       "3                 no                      0              299.4   \n",
       "4                 no                      0              166.7   \n",
       "...              ...                    ...                ...   \n",
       "3328             yes                     36              156.2   \n",
       "3329              no                      0              231.1   \n",
       "3330              no                      0              180.8   \n",
       "3331              no                      0              213.8   \n",
       "3332             yes                     25              234.4   \n",
       "\n",
       "      total day calls  total day charge  ...  total eve calls  \\\n",
       "0                 110             45.07  ...               99   \n",
       "1                 123             27.47  ...              103   \n",
       "2                 114             41.38  ...              110   \n",
       "3                  71             50.90  ...               88   \n",
       "4                 113             28.34  ...              122   \n",
       "...               ...               ...  ...              ...   \n",
       "3328               77             26.55  ...              126   \n",
       "3329               57             39.29  ...               55   \n",
       "3330              109             30.74  ...               58   \n",
       "3331              105             36.35  ...               84   \n",
       "3332              113             39.85  ...               82   \n",
       "\n",
       "      total eve charge  total night minutes  total night calls  \\\n",
       "0                16.78                244.7                 91   \n",
       "1                16.62                254.4                103   \n",
       "2                10.30                162.6                104   \n",
       "3                 5.26                196.9                 89   \n",
       "4                12.61                186.9                121   \n",
       "...                ...                  ...                ...   \n",
       "3328             18.32                279.1                 83   \n",
       "3329             13.04                191.3                123   \n",
       "3330             24.55                191.9                 91   \n",
       "3331             13.57                139.2                137   \n",
       "3332             22.60                241.4                 77   \n",
       "\n",
       "      total night charge  total intl minutes  total intl calls  \\\n",
       "0                  11.01                10.0                 3   \n",
       "1                  11.45                13.7                 3   \n",
       "2                   7.32                12.2                 5   \n",
       "3                   8.86                 6.6                 7   \n",
       "4                   8.41                10.1                 3   \n",
       "...                  ...                 ...               ...   \n",
       "3328               12.56                 9.9                 6   \n",
       "3329                8.61                 9.6                 4   \n",
       "3330                8.64                14.1                 6   \n",
       "3331                6.26                 5.0                10   \n",
       "3332               10.86                13.7                 4   \n",
       "\n",
       "      total intl charge  customer service calls  churn  \n",
       "0                  2.70                       1  False  \n",
       "1                  3.70                       1  False  \n",
       "2                  3.29                       0  False  \n",
       "3                  1.78                       2  False  \n",
       "4                  2.73                       3  False  \n",
       "...                 ...                     ...    ...  \n",
       "3328               2.67                       2  False  \n",
       "3329               2.59                       3  False  \n",
       "3330               3.81                       2  False  \n",
       "3331               1.35                       2  False  \n",
       "3332               3.70                       0  False  \n",
       "\n",
       "[3333 rows x 21 columns]>"
      ]
     },
     "execution_count": 5,
     "metadata": {},
     "output_type": "execute_result"
    }
   ],
   "source": [
    "#inpsect value counts of columns to see how much data has been collected\n",
    "df.value_counts"
   ]
  },
  {
   "cell_type": "markdown",
   "id": "41e08800",
   "metadata": {},
   "source": [
    "##  Data EDA"
   ]
  },
  {
   "cell_type": "code",
   "execution_count": 6,
   "id": "9fe3971e",
   "metadata": {},
   "outputs": [
    {
     "data": {
      "text/plain": [
       "False    2850\n",
       "True      483\n",
       "Name: churn, dtype: int64"
      ]
     },
     "execution_count": 6,
     "metadata": {},
     "output_type": "execute_result"
    }
   ],
   "source": [
    "#investigate value counts of false and true churns because it is our target feature\n",
    "df['churn'].value_counts()"
   ]
  },
  {
   "cell_type": "code",
   "execution_count": 7,
   "id": "cd8f5396",
   "metadata": {},
   "outputs": [
    {
     "name": "stdout",
     "output_type": "stream",
     "text": [
      "% of people who did churn from dataset:  14.491449144914492\n",
      "% of people who did not churn from dataset:  85.5085508550855\n"
     ]
    }
   ],
   "source": [
    "#investigate the percentage of people who churned and did not churn\n",
    "n=len(df)\n",
    "surv_0=len(df[df['churn']==0])\n",
    "surv_1=len(df[df['churn']==1])\n",
    "\n",
    "print(\"% of people who did churn from dataset: \",surv_1*100/n)\n",
    "print(\"% of people who did not churn from dataset: \",surv_0*100/n)"
   ]
  },
  {
   "cell_type": "code",
   "execution_count": 8,
   "id": "96e12251",
   "metadata": {},
   "outputs": [
    {
     "data": {
      "image/png": "[encoded data removed]",
      "text/plain": [
       "<Figure size 432x288 with 1 Axes>"
      ]
     },
     "metadata": {
      "needs_background": "light"
     },
     "output_type": "display_data"
    }
   ],
   "source": [
    "#visulize value counts of churned\n",
    "fig , ax = plt.subplots(figsize=(6,4))\n",
    "palette= ['#ff9999','#66b3ff','#99ff99','#ffcc99']\n",
    "sns.countplot(x='churn', data=df, palette = palette)\n",
    "plt.title(\"Number of Churned\")\n",
    "plt.show()\n"
   ]
  },
  {
   "cell_type": "code",
   "execution_count": 9,
   "id": "977b73a1",
   "metadata": {},
   "outputs": [
    {
     "data": {
      "image/png": "[encoded data removed]",
      "text/plain": [
       "<Figure size 1152x1296 with 16 Axes>"
      ]
     },
     "metadata": {
      "needs_background": "light"
     },
     "output_type": "display_data"
    }
   ],
   "source": [
    "### create histograms to see overall trends over time with each feature\n",
    "df.hist(bins = 5, figsize = (16,18))\n",
    "plt.show()"
   ]
  },
  {
   "cell_type": "code",
   "execution_count": 10,
   "id": "4bc6fbc5",
   "metadata": {},
   "outputs": [
    {
     "data": {
      "image/png": "[encoded data removed]",
      "text/plain": [
       "<Figure size 1440x1440 with 2 Axes>"
      ]
     },
     "metadata": {
      "needs_background": "light"
     },
     "output_type": "display_data"
    }
   ],
   "source": [
    "#create a heatmap to inspect correlation between features and the target ('churn')\n",
    "corr_mat = df[[\"account length\", 'total day minutes', 'total day calls', 'total day charge',\n",
    "       'total eve minutes', 'total eve calls', 'total eve charge',\n",
    "       'total night minutes', 'total night calls', 'total night charge',\n",
    "       'total intl minutes', 'total intl calls', 'total intl charge',\n",
    "       'customer service calls', 'churn']].corr()\n",
    "fig, ax = plt.subplots(figsize=(20, 20))\n",
    "# plot it\n",
    "sns.heatmap(corr_mat, annot = True)\n",
    "ax.set_title(\"Heatmap of Correlation Between Attributes (Including Target)\");"
   ]
  },
  {
   "cell_type": "code",
   "execution_count": 11,
   "id": "c4cedd2f",
   "metadata": {},
   "outputs": [
    {
     "name": "stdout",
     "output_type": "stream",
     "text": [
      "count    3333.000000\n",
      "mean      179.775098\n",
      "std        54.467389\n",
      "min         0.000000\n",
      "25%       143.700000\n",
      "50%       179.400000\n",
      "75%       216.400000\n",
      "max       350.800000\n",
      "Name: total day minutes, dtype: float64\n"
     ]
    }
   ],
   "source": [
    "#inspect total day minutes, as one of the most highly correlated features\n",
    "print(df['total day minutes'].describe())"
   ]
  },
  {
   "cell_type": "code",
   "execution_count": 12,
   "id": "011dc470",
   "metadata": {},
   "outputs": [
    {
     "name": "stdout",
     "output_type": "stream",
     "text": [
      "count    3333.000000\n",
      "mean       30.562307\n",
      "std         9.259435\n",
      "min         0.000000\n",
      "25%        24.430000\n",
      "50%        30.500000\n",
      "75%        36.790000\n",
      "max        59.640000\n",
      "Name: total day charge, dtype: float64\n"
     ]
    }
   ],
   "source": [
    "#inspect total day charge, as one of the most highly correlated features\n",
    "print(df['total day charge'].describe())"
   ]
  },
  {
   "cell_type": "code",
   "execution_count": 13,
   "id": "f4904ce9",
   "metadata": {},
   "outputs": [
    {
     "name": "stdout",
     "output_type": "stream",
     "text": [
      "count    3333.000000\n",
      "mean        1.562856\n",
      "std         1.315491\n",
      "min         0.000000\n",
      "25%         1.000000\n",
      "50%         1.000000\n",
      "75%         2.000000\n",
      "max         9.000000\n",
      "Name: customer service calls, dtype: float64\n"
     ]
    }
   ],
   "source": [
    "#inspect customer service calls, as one of the most highly correlated features\n",
    "print(df['customer service calls'].describe())"
   ]
  },
  {
   "cell_type": "markdown",
   "id": "cbaeb42a",
   "metadata": {},
   "source": [
    "There are not many highly correlated features with 'churn'. The features that are the most highly corrected are 'total day minutes', 'total day charge', and 'customer service calls'. These features possibly could effect 'churn' and will be further investigated. "
   ]
  },
  {
   "cell_type": "markdown",
   "id": "f5023ca6",
   "metadata": {},
   "source": [
    "## Data Cleaning"
   ]
  },
  {
   "cell_type": "code",
   "execution_count": 14,
   "id": "7178ebd7",
   "metadata": {},
   "outputs": [
    {
     "data": {
      "text/plain": [
       "False"
      ]
     },
     "execution_count": 14,
     "metadata": {},
     "output_type": "execute_result"
    }
   ],
   "source": [
    "#investigate any null values \n",
    "df.isnull().values.any()"
   ]
  },
  {
   "cell_type": "code",
   "execution_count": 15,
   "id": "7ac37594",
   "metadata": {},
   "outputs": [],
   "source": [
    "# drop unnecessary columns- not valuable for business question\n",
    "df.drop(columns = ['phone number', 'area code', 'state'], axis = 1, inplace = True)"
   ]
  },
  {
   "cell_type": "code",
   "execution_count": 16,
   "id": "5c199526",
   "metadata": {},
   "outputs": [],
   "source": [
    "#one hot encoding of international plan from 'yes' and 'no' to binary\n",
    "df['international plan'].replace(('yes', 'no'), (1,0), inplace=True)"
   ]
  },
  {
   "cell_type": "code",
   "execution_count": 17,
   "id": "a67c6c4d",
   "metadata": {},
   "outputs": [
    {
     "data": {
      "text/plain": [
       "0       0\n",
       "1       0\n",
       "2       0\n",
       "3       1\n",
       "4       1\n",
       "       ..\n",
       "3328    0\n",
       "3329    0\n",
       "3330    0\n",
       "3331    1\n",
       "3332    0\n",
       "Name: international plan, Length: 3333, dtype: int64"
      ]
     },
     "execution_count": 17,
     "metadata": {},
     "output_type": "execute_result"
    }
   ],
   "source": [
    "#check that international plan column is now binary\n",
    "df['international plan']"
   ]
  },
  {
   "cell_type": "code",
   "execution_count": 18,
   "id": "57531617",
   "metadata": {},
   "outputs": [],
   "source": [
    "#one hot encoding of voice mail plan from 'yes' and 'no' to binary\n",
    "df['voice mail plan'].replace(('yes', 'no'), (1,0), inplace=True)"
   ]
  },
  {
   "cell_type": "code",
   "execution_count": 19,
   "id": "569417b4",
   "metadata": {},
   "outputs": [
    {
     "data": {
      "text/plain": [
       "0       1\n",
       "1       1\n",
       "2       0\n",
       "3       0\n",
       "4       0\n",
       "       ..\n",
       "3328    1\n",
       "3329    0\n",
       "3330    0\n",
       "3331    0\n",
       "3332    1\n",
       "Name: voice mail plan, Length: 3333, dtype: int64"
      ]
     },
     "execution_count": 19,
     "metadata": {},
     "output_type": "execute_result"
    }
   ],
   "source": [
    "#check that voice mail plan is now binary\n",
    "df['voice mail plan']"
   ]
  },
  {
   "cell_type": "code",
   "execution_count": 20,
   "id": "c83d8445",
   "metadata": {},
   "outputs": [],
   "source": [
    "#create variable of column 'churn' from the data for readibility\n",
    "churn = df['churn']"
   ]
  },
  {
   "cell_type": "code",
   "execution_count": 21,
   "id": "da5ba91d",
   "metadata": {},
   "outputs": [
    {
     "data": {
      "text/plain": [
       "0     False\n",
       "1     False\n",
       "2     False\n",
       "3     False\n",
       "4     False\n",
       "      ...  \n",
       "95    False\n",
       "96    False\n",
       "97    False\n",
       "98     True\n",
       "99     True\n",
       "Name: churn, Length: 100, dtype: bool"
      ]
     },
     "execution_count": 21,
     "metadata": {},
     "output_type": "execute_result"
    }
   ],
   "source": [
    "#inspect the churn variable for length and dtype\n",
    "churn.head(100)"
   ]
  },
  {
   "cell_type": "markdown",
   "id": "646c0258",
   "metadata": {},
   "source": [
    "## Create training and test sets"
   ]
  },
  {
   "cell_type": "code",
   "execution_count": 22,
   "id": "f1762948",
   "metadata": {},
   "outputs": [],
   "source": [
    "#create training sets to start modeling and prediction upon the data\n",
    "y = churn.astype(int)\n",
    "X = df.drop(columns=['churn'], axis=1)\n",
    "X_train, X_test, y_train, y_test = train_test_split(\n",
    "    X, y, test_size=0.25, random_state=42)"
   ]
  },
  {
   "cell_type": "code",
   "execution_count": 23,
   "id": "704dbeb7",
   "metadata": {},
   "outputs": [],
   "source": [
    "#Normalize the data to prevent leakage\n",
    "ss = StandardScaler()\n",
    "X_train_ss = ss.fit_transform(X_train)\n",
    "\n",
    "X_test_ss = ss.transform(X_test)"
   ]
  },
  {
   "cell_type": "markdown",
   "id": "837e5e2a",
   "metadata": {},
   "source": [
    "## Instantiating Models"
   ]
  },
  {
   "cell_type": "code",
   "execution_count": 24,
   "id": "2cf1315e",
   "metadata": {},
   "outputs": [],
   "source": [
    "#instantiating models within a dictionary\n",
    "models = {}\n",
    "\n",
    "# Logistic Regression\n",
    "models['Logistic Regression'] = LogisticRegression()\n",
    "\n",
    "# Support Vector Machines\n",
    "models['Support Vector Machines'] = LinearSVC()\n",
    "\n",
    "# Decision Trees\n",
    "models['Decision Trees'] = DecisionTreeClassifier()\n",
    "\n",
    "# Random Forest\n",
    "models['Random Forest'] = RandomForestClassifier()\n",
    "\n",
    "# Naive Bayes\n",
    "models['Naive Bayes'] = GaussianNB()\n",
    "\n",
    "# K-Nearest Neighbors\n",
    "models['K-Nearest Neighbor'] = KNeighborsClassifier()"
   ]
  },
  {
   "cell_type": "code",
   "execution_count": 25,
   "id": "8a8dd490",
   "metadata": {},
   "outputs": [],
   "source": [
    "#looking for accuracy, precision and recall scores within the models\n",
    "accuracy, precision, recall = {}, {}, {}\n",
    "\n",
    "for key in models.keys():\n",
    "    \n",
    "    # Fit the classifier\n",
    "    models[key].fit(X_train_ss, y_train)\n",
    "    \n",
    "    # Make predictions\n",
    "    predictions = models[key].predict(X_test_ss)\n",
    "    \n",
    "    # Calculate metrics\n",
    "    accuracy[key] = accuracy_score(predictions, y_test)\n",
    "    precision[key] = precision_score(predictions, y_test)\n",
    "    recall[key] = recall_score(predictions, y_test)"
   ]
  },
  {
   "cell_type": "code",
   "execution_count": 26,
   "id": "2fb60248",
   "metadata": {},
   "outputs": [
    {
     "name": "stdout",
     "output_type": "stream",
     "text": [
      "+-------------------------+------------+-------------+----------+\n",
      "|                         |   Accuracy |   Precision |   Recall |\n",
      "+=========================+============+=============+==========+\n",
      "| Logistic Regression     |   0.858513 |       0.192 | 0.585366 |\n",
      "+-------------------------+------------+-------------+----------+\n",
      "| Support Vector Machines |   0.856115 |       0.128 | 0.592593 |\n",
      "+-------------------------+------------+-------------+----------+\n",
      "| Decision Trees          |   0.911271 |       0.736 | 0.691729 |\n",
      "+-------------------------+------------+-------------+----------+\n",
      "| Random Forest           |   0.94964  |       0.704 | 0.946237 |\n",
      "+-------------------------+------------+-------------+----------+\n",
      "| Naive Bayes             |   0.851319 |       0.464 | 0.504348 |\n",
      "+-------------------------+------------+-------------+----------+\n",
      "| K-Nearest Neighbor      |   0.890887 |       0.368 | 0.793103 |\n",
      "+-------------------------+------------+-------------+----------+\n"
     ]
    },
    {
     "data": {
      "text/plain": [
       "<Figure size 432x288 with 0 Axes>"
      ]
     },
     "metadata": {},
     "output_type": "display_data"
    }
   ],
   "source": [
    "#printing out accuracy, precision, and recall scores from each of those models to see which has the highest baseline with which to hypertune\n",
    "\n",
    "df_model = pd.DataFrame(index=models.keys(), columns=['Accuracy', 'Precision', 'Recall'])\n",
    "df_model['Accuracy'] = accuracy.values()\n",
    "df_model['Precision'] = precision.values()\n",
    "df_model['Recall'] = recall.values()\n",
    "columns=['Accuracy', 'Precision', 'Recall']\n",
    "\n",
    "\n",
    "modeltable = (tabulate(df_model, headers = columns, tablefmt=\"grid\"))\n",
    "print(modeltable)\n",
    "\n",
    "plt.savefig('modeltable.png')\n",
    "dfi.export(df_model, \"modeltable.png\")"
   ]
  },
  {
   "cell_type": "markdown",
   "id": "3f1fbe59",
   "metadata": {},
   "source": [
    "![](modeltable.png)"
   ]
  },
  {
   "cell_type": "markdown",
   "id": "74feef9f",
   "metadata": {},
   "source": [
    "Random Forest has the highest accuracy and therefore has our best baseline model. Along with Random Forest, Logistic Regression and K-Nearest Neighbors will also be hypertuned to find the best model. "
   ]
  },
  {
   "cell_type": "code",
   "execution_count": 27,
   "id": "d623f664",
   "metadata": {},
   "outputs": [
    {
     "data": {
      "image/png": "[encoded data removed]",
      "text/plain": [
       "<Figure size 432x288 with 1 Axes>"
      ]
     },
     "metadata": {
      "needs_background": "light"
     },
     "output_type": "display_data"
    }
   ],
   "source": [
    "#Plotting the accuracy, precision and recall scores of the models for visual comparison\n",
    "color = ['#ff9999','#66b3ff','#99ff99','#ffcc99']\n",
    "ax = df_model.plot.barh(title = 'Model Scores', color = color)\n",
    "\n",
    "ax.legend(\n",
    "    ncol=len(models.keys()), \n",
    "    bbox_to_anchor=(0, 1), \n",
    "    loc='right',\n",
    "    prop={'size': 9},\n",
    "    \n",
    "\n",
    "    \n",
    ")\n",
    "ax.set_xlabel('Model Performance', fontsize=10)\n",
    "ax.set_ylabel('Models', fontsize='medium')\n",
    "plt.tight_layout()"
   ]
  },
  {
   "cell_type": "markdown",
   "id": "346d9145",
   "metadata": {},
   "source": [
    "## Logistic Regression"
   ]
  },
  {
   "cell_type": "code",
   "execution_count": 28,
   "id": "bda99034",
   "metadata": {},
   "outputs": [
    {
     "name": "stdout",
     "output_type": "stream",
     "text": [
      "              precision    recall  f1-score   support\n",
      "\n",
      "           0       0.87      0.98      0.92       709\n",
      "           1       0.59      0.19      0.29       125\n",
      "\n",
      "    accuracy                           0.86       834\n",
      "   macro avg       0.73      0.58      0.61       834\n",
      "weighted avg       0.83      0.86      0.83       834\n",
      "\n",
      "Accuracy Score : 0.8585131894484412\n",
      "Precision Score : 0.5853658536585366\n",
      "Recall Score : 0.192\n",
      "F1 Score : 0.2891566265060241\n",
      "Confusion Matrix : \n",
      "[[692  17]\n",
      " [101  24]]\n"
     ]
    }
   ],
   "source": [
    "#Print the classification report for a basic logistic regression model, the one also preformed above, for practice and ease of understanding workflow\n",
    "logreg = LogisticRegression(random_state=42)\n",
    "logreg.fit(X_train_ss, y_train)\n",
    "\n",
    "y_pred = logreg.predict(X_test_ss)\n",
    "print(classification_report(y_test, y_pred))\n",
    "print('Accuracy Score : ' + str(accuracy_score(y_test,y_pred)))\n",
    "print('Precision Score : ' + str(precision_score(y_test,y_pred)))\n",
    "print('Recall Score : ' + str(recall_score(y_test,y_pred)))\n",
    "print('F1 Score : ' + str(f1_score(y_test,y_pred)))\n",
    "\n",
    "#Dummy Classifier Confusion matrix\n",
    "print('Confusion Matrix : \\n' + str(confusion_matrix(y_test,y_pred)))"
   ]
  },
  {
   "cell_type": "code",
   "execution_count": 29,
   "id": "83ac8685",
   "metadata": {},
   "outputs": [
    {
     "data": {
      "image/png": "[encoded data removed]",
      "text/plain": [
       "<Figure size 1512x504 with 3 Axes>"
      ]
     },
     "metadata": {
      "needs_background": "light"
     },
     "output_type": "display_data"
    }
   ],
   "source": [
    "#create confusion matrix heatmap of the baseline logistic regression model\n",
    "fig, [ax1, ax2, ax3] = plt.subplots(1, 3, figsize=(21, 7))\n",
    "cm = confusion_matrix(y_test, y_pred)\n",
    "sns.heatmap(cm, annot = True, cbar = False, fmt = \"d\", linewidths = .5, cmap = \"Blues\", ax = ax1)\n",
    "ax1.set_title(\"Confusion Matrix\")\n",
    "ax1.set_xlabel(\"Predicted class\")\n",
    "ax1.set_ylabel(\"Actual class\")\n",
    "fig.tight_layout()\n",
    "\n",
    "\n",
    "plt.show()\n",
    "\n"
   ]
  },
  {
   "cell_type": "code",
   "execution_count": 30,
   "id": "12b24791",
   "metadata": {},
   "outputs": [
    {
     "data": {
      "image/png": "[encoded data removed]",
      "text/plain": [
       "<Figure size 432x288 with 1 Axes>"
      ]
     },
     "metadata": {
      "needs_background": "light"
     },
     "output_type": "display_data"
    }
   ],
   "source": [
    "# ROC is a coomon tool for binary classifiers and we would want the the dotted line that represents the ROC curve of a purely random classifier to stay as far away from that line as possible. \n",
    "#This model has 85% accuracy which is high and there is a definite curve away from the line shown below.  \n",
    "\n",
    "logit_roc_auc = roc_auc_score(y_test, logreg.predict(X_test_ss))\n",
    "fpr, tpr, thresholds = roc_curve(y_test, logreg.predict_proba(X_test_ss)[:,1])\n",
    "plt.figure()\n",
    "plt.plot(fpr, tpr, label='Logistic Regression (area = %0.2f)' % logit_roc_auc)\n",
    "plt.plot([0, 1], [0, 1],'r--')\n",
    "plt.xlim([0.0, 1.0])\n",
    "plt.ylim([0.0, 1.05])\n",
    "plt.xlabel('False Positive Rate')\n",
    "plt.ylabel('True Positive Rate')\n",
    "plt.title('Receiver operating characteristic')\n",
    "plt.legend(loc=\"lower right\")\n",
    "plt.savefig('Log_ROC')\n",
    "plt.show()"
   ]
  },
  {
   "cell_type": "code",
   "execution_count": 31,
   "id": "ea6ccfda",
   "metadata": {},
   "outputs": [
    {
     "name": "stdout",
     "output_type": "stream",
     "text": [
      "Fitting 10 folds for each of 960 candidates, totalling 9600 fits\n",
      "LogisticRegression(C=0.0001, class_weight='balanced', max_iter=20, penalty='l1',\n",
      "                   random_state=1234, solver='liblinear')\n"
     ]
    }
   ],
   "source": [
    "#hypertune the model using GridSearch to find the most optimal hypertuning parameters\n",
    "param_grid_lr = ({\"max_iter\": [20, 50, 100, 200, 500, 1000],\n",
    "                  \"solver\": [\"newton-cg\", \"lbfgs\", \"liblinear\", \"sag\", \"saga\"],\n",
    "                  \"class_weight\": [\"balanced\"],\n",
    "                  \"penalty\" : ['none', 'l1', 'l2', 'elasticnet'],\n",
    "                  'C' : [0.0001, 0.001, 0.01, 0.1, 1, 10, 100, 1000]})\n",
    "\n",
    "\n",
    "logModel_grid = GridSearchCV(estimator=LogisticRegression(random_state=1234),scoring =\"accuracy\", param_grid=param_grid_lr, verbose=1, cv=10, n_jobs=-1)\n",
    "logModel_grid.fit(X_train_ss, y_train)\n",
    "print(logModel_grid.best_estimator_)\n",
    "y_pred_lr = logModel_grid.predict(X_test_ss)\n",
    "      "
   ]
  },
  {
   "cell_type": "markdown",
   "id": "f6203109",
   "metadata": {},
   "source": [
    "The parameters chosen are class weight = balanced, which uses the values of y to automatically adjust weights inversely proportional to class frequencies in the input data as n_samples / (n_classes * np.bincount(y)), max iterations = 20 which is how many iterations for the solvers to converge, random state = 1234 for shuffling the data, and solver = newton-cg which is best for multiclass problems."
   ]
  },
  {
   "cell_type": "code",
   "execution_count": 32,
   "id": "3821dd11",
   "metadata": {},
   "outputs": [
    {
     "data": {
      "text/plain": [
       "LogisticRegression(C=0.0001, class_weight='balanced', max_iter=20, penalty='l1',\n",
       "                   random_state=1234, solver='liblinear')"
      ]
     },
     "execution_count": 32,
     "metadata": {},
     "output_type": "execute_result"
    }
   ],
   "source": [
    "# fitting the best parameters to new logistic regression model \n",
    "lg_model =LogisticRegression(C=0.0001, class_weight='balanced', max_iter=20, penalty='l1', random_state=1234,\n",
    "                   solver='liblinear')\n",
    "lg_model.fit(X_train_ss, y_train)"
   ]
  },
  {
   "cell_type": "code",
   "execution_count": 33,
   "id": "2d201b83",
   "metadata": {},
   "outputs": [
    {
     "name": "stdout",
     "output_type": "stream",
     "text": [
      "Training set accuracy:  0.8567426970788315\n",
      "Test set accuracy:  0.8501199040767387\n"
     ]
    }
   ],
   "source": [
    "# using this newly fitted trained data to predict data and print accuracy of train and test data\n",
    "y_hat_lg = lg_model.predict(X_train_ss)\n",
    "y_lg_model = lg_model.predict(X_test)\n",
    "print('Training set accuracy: ', metrics.accuracy_score(y_train, y_hat_lg))\n",
    "print('Test set accuracy: ',metrics.accuracy_score(y_test, y_lg_model))"
   ]
  },
  {
   "cell_type": "markdown",
   "id": "e904711e",
   "metadata": {},
   "source": [
    "The training set accuracy is 85% with the test set accuracy at 85%. Although this was not an improvement over the baseline model which also had an accuracy of 85%, the test set accuracy is high. "
   ]
  },
  {
   "cell_type": "code",
   "execution_count": 34,
   "id": "6104f317",
   "metadata": {},
   "outputs": [
    {
     "name": "stdout",
     "output_type": "stream",
     "text": [
      "[[709   0]\n",
      " [125   0]]\n"
     ]
    },
    {
     "data": {
      "image/png": "[encoded data removed]",
      "text/plain": [
       "<Figure size 1512x504 with 3 Axes>"
      ]
     },
     "metadata": {
      "needs_background": "light"
     },
     "output_type": "display_data"
    }
   ],
   "source": [
    "#print and create confusion matrix heatmap with newly hypertuned model\n",
    "print(confusion_matrix(y_test, y_lg_model))\n",
    "fig, [ax1, ax2, ax3] = plt.subplots(1, 3, figsize=(21, 7))\n",
    "cm = confusion_matrix(y_test, y_lg_model)\n",
    "sns.heatmap(cm, annot = True, cbar = False, fmt = \"d\", linewidths = .5, cmap = \"Blues\", ax = ax1)\n",
    "ax1.set_title(\"Confusion Matrix\")\n",
    "ax1.set_xlabel(\"Predicted class\")\n",
    "ax1.set_ylabel(\"Actual class\")\n",
    "fig.tight_layout()\n",
    "\n",
    "\n",
    "plt.show()"
   ]
  },
  {
   "cell_type": "code",
   "execution_count": 35,
   "id": "93c6de34",
   "metadata": {},
   "outputs": [
    {
     "name": "stdout",
     "output_type": "stream",
     "text": [
      "              precision    recall  f1-score   support\n",
      "\n",
      "           0       0.85      1.00      0.92       709\n",
      "           1       0.00      0.00      0.00       125\n",
      "\n",
      "    accuracy                           0.85       834\n",
      "   macro avg       0.43      0.50      0.46       834\n",
      "weighted avg       0.72      0.85      0.78       834\n",
      "\n"
     ]
    }
   ],
   "source": [
    "#printing the classification report of the logistic Regression hypertuned model\n",
    "print(classification_report(y_test, y_lg_model))"
   ]
  },
  {
   "cell_type": "code",
   "execution_count": 36,
   "id": "83e41036",
   "metadata": {},
   "outputs": [],
   "source": [
    "#cross validate scores\n",
    "scores_lg = cross_val_score(logreg, X, y, cv =5)"
   ]
  },
  {
   "cell_type": "code",
   "execution_count": 37,
   "id": "ea3ba911",
   "metadata": {},
   "outputs": [
    {
     "name": "stdout",
     "output_type": "stream",
     "text": [
      "Model accuracy:  0.8505859682771227\n"
     ]
    }
   ],
   "source": [
    "#Print the model accuracy of the cross validated scores\n",
    "print('Model accuracy: ',np.mean(scores_lg))"
   ]
  },
  {
   "cell_type": "code",
   "execution_count": 38,
   "id": "58f8c62e",
   "metadata": {},
   "outputs": [
    {
     "name": "stdout",
     "output_type": "stream",
     "text": [
      "0.8501199040767387 : is the accuracy score\n"
     ]
    }
   ],
   "source": [
    "# Printing the accuracy of logistic Regression hypertuned model\n",
    "print(accuracy_score(y_test, y_pred_lr), \": is the accuracy score\")"
   ]
  },
  {
   "cell_type": "markdown",
   "id": "2ab69214",
   "metadata": {},
   "source": [
    "The accuracy score of the logistic regression hypertuned model did not improve upon the baseline model. Both had 85%."
   ]
  },
  {
   "cell_type": "markdown",
   "id": "877ffd38",
   "metadata": {},
   "source": [
    "## K Nearest Neighbors"
   ]
  },
  {
   "cell_type": "code",
   "execution_count": 39,
   "id": "d63ec2b3",
   "metadata": {},
   "outputs": [
    {
     "name": "stdout",
     "output_type": "stream",
     "text": [
      "Best leaf_size: 1\n",
      "Best p: 1\n",
      "Best n_neighbors: 5\n"
     ]
    }
   ],
   "source": [
    "#Next evaluation metric ic K-Nearest Neighbors\n",
    "\n",
    "knn = KNeighborsClassifier()\n",
    "#Training the model.\n",
    "knn.fit(X_train_ss, y_train)\n",
    "\n",
    "#List Hyperparameters that we want to tune.\n",
    "leaf_size = list(range(1,50))\n",
    "n_neighbors = list(range(1,30))\n",
    "p=[1,2]\n",
    "#Convert to dictionary\n",
    "hyperparameters = dict(leaf_size=leaf_size, n_neighbors=n_neighbors, p=p)\n",
    "#Create new KNN object\n",
    "knn_2 = KNeighborsClassifier()\n",
    "#Use GridSearch\n",
    "clf = GridSearchCV(knn_2, hyperparameters, cv=10)\n",
    "#Fit the model\n",
    "best_model = clf.fit(X_train_ss, y_train)\n",
    "#Print The value of best Hyperparameters   \n",
    "print('Best leaf_size:', best_model.best_estimator_.get_params()['leaf_size'])\n",
    "print('Best p:', best_model.best_estimator_.get_params()['p'])\n",
    "print('Best n_neighbors:', best_model.best_estimator_.get_params()['n_neighbors'])"
   ]
  },
  {
   "cell_type": "code",
   "execution_count": 40,
   "id": "cffb790a",
   "metadata": {},
   "outputs": [
    {
     "name": "stdout",
     "output_type": "stream",
     "text": [
      "Best: 0.892758 using {'metric': 'manhattan', 'n_neighbors': 5, 'weights': 'uniform'}\n"
     ]
    }
   ],
   "source": [
    "#hypertune the model using GridSearch to find the most optimal hypertuning parameters\n",
    "\n",
    "knn = KNeighborsClassifier()\n",
    "n_neighbors = range(1, 21, 2)\n",
    "weights = ['uniform', 'distance']\n",
    "metric = ['euclidean', 'manhattan', 'minkowski']\n",
    "# define grid search\n",
    "grid = dict(n_neighbors=n_neighbors,weights=weights,metric=metric)\n",
    "grid_search = GridSearchCV(estimator=knn, param_grid=grid, n_jobs=-1, scoring='accuracy',error_score=0)\n",
    "grid_result_knn = grid_search.fit(X_train_ss, y_train)\n",
    "# summarize results\n",
    "print(\"Best: %f using %s\" % (grid_result_knn.best_score_, grid_result_knn.best_params_))\n"
   ]
  },
  {
   "cell_type": "markdown",
   "id": "6012a73e",
   "metadata": {},
   "source": [
    "The best parameters are manhattan for the metric because , 5 n-neighbors is the default and was also chosen as best in the first KNN gridsearch , and uniform for weights because all the points should be weighed equally for this data. "
   ]
  },
  {
   "cell_type": "code",
   "execution_count": 41,
   "id": "6ec297f7",
   "metadata": {},
   "outputs": [
    {
     "data": {
      "text/plain": [
       "KNeighborsClassifier(metric='manhattan')"
      ]
     },
     "execution_count": 41,
     "metadata": {},
     "output_type": "execute_result"
    }
   ],
   "source": [
    "# fitting the best parameters found from the gridsearch to new knn model \n",
    "knn = KNeighborsClassifier(n_neighbors = 5, weights = 'uniform',metric = 'manhattan')\n",
    "knn.fit(X_train_ss, y_train)"
   ]
  },
  {
   "cell_type": "code",
   "execution_count": 42,
   "id": "b76c8269",
   "metadata": {},
   "outputs": [
    {
     "name": "stdout",
     "output_type": "stream",
     "text": [
      "Training set accuracy:  0.9211684673869548\n",
      "Test set accuracy:  0.39568345323741005\n"
     ]
    }
   ],
   "source": [
    "#Accuracy of the training set with the knn evaluator\n",
    "y_hat = knn.predict(X_train_ss)\n",
    "y_knn = knn.predict(X_test)\n",
    "print('Training set accuracy: ', metrics.accuracy_score(y_train, y_hat))\n",
    "print('Test set accuracy: ',metrics.accuracy_score(y_test, y_knn))"
   ]
  },
  {
   "cell_type": "markdown",
   "id": "891cdc93",
   "metadata": {},
   "source": [
    "Although the KNN training set accuracty is higher than the logistic regression hypertuned model, the test set accuracy is much lower, which may mean that this may be an overfit model."
   ]
  },
  {
   "cell_type": "code",
   "execution_count": 43,
   "id": "83418eda",
   "metadata": {},
   "outputs": [
    {
     "name": "stdout",
     "output_type": "stream",
     "text": [
      "[[224 485]\n",
      " [ 19 106]]\n"
     ]
    },
    {
     "data": {
      "image/png": "[encoded data removed]",
      "text/plain": [
       "<Figure size 1512x504 with 3 Axes>"
      ]
     },
     "metadata": {
      "needs_background": "light"
     },
     "output_type": "display_data"
    }
   ],
   "source": [
    "#printing and creating the confusion matrix of improved knn model\n",
    "3\n",
    "print(confusion_matrix(y_test, y_knn))\n",
    "fig, [ax1, ax2, ax3] = plt.subplots(1, 3, figsize=(21, 7))\n",
    "cm = confusion_matrix(y_test, y_knn)\n",
    "sns.heatmap(cm, annot = True, cbar = False, fmt = \"d\", linewidths = .5, cmap = \"Blues\", ax = ax1)\n",
    "ax1.set_title(\"Confusion Matrix\")\n",
    "ax1.set_xlabel(\"Predicted class\")\n",
    "ax1.set_ylabel(\"Actual class\")\n",
    "fig.tight_layout()\n",
    "\n",
    "\n",
    "plt.show()"
   ]
  },
  {
   "cell_type": "code",
   "execution_count": 44,
   "id": "310e747b",
   "metadata": {},
   "outputs": [
    {
     "name": "stdout",
     "output_type": "stream",
     "text": [
      "              precision    recall  f1-score   support\n",
      "\n",
      "           0       0.92      0.32      0.47       709\n",
      "           1       0.18      0.85      0.30       125\n",
      "\n",
      "    accuracy                           0.40       834\n",
      "   macro avg       0.55      0.58      0.38       834\n",
      "weighted avg       0.81      0.40      0.44       834\n",
      "\n"
     ]
    }
   ],
   "source": [
    "#classification report of the improved knn model\n",
    "print(classification_report(y_test, y_knn))"
   ]
  },
  {
   "cell_type": "code",
   "execution_count": 45,
   "id": "05a97be1",
   "metadata": {},
   "outputs": [
    {
     "data": {
      "image/png": "[encoded data removed]",
      "text/plain": [
       "<Figure size 432x288 with 1 Axes>"
      ]
     },
     "metadata": {
      "needs_background": "light"
     },
     "output_type": "display_data"
    }
   ],
   "source": [
    "# Testing ROC on this model\n",
    "logit_roc_auc = roc_auc_score(y_knn, logreg.predict(X_test_ss))\n",
    "fpr, tpr, thresholds = roc_curve(y_test, logreg.predict_proba(X_test_ss)[:,1])\n",
    "plt.figure()\n",
    "plt.plot(fpr, tpr, label='Logistic Regression (area = %0.2f)' % logit_roc_auc)\n",
    "plt.plot([0, 1], [0, 1],'r--')\n",
    "plt.xlim([0.0, 1.0])\n",
    "plt.ylim([0.0, 1.05])\n",
    "plt.xlabel('False Positive Rate')\n",
    "plt.ylabel('True Positive Rate')\n",
    "plt.title('Receiver operating characteristic')\n",
    "plt.legend(loc=\"lower right\")\n",
    "plt.savefig('Log_ROC')\n",
    "plt.show()"
   ]
  },
  {
   "cell_type": "code",
   "execution_count": 46,
   "id": "6e3cf4cd",
   "metadata": {},
   "outputs": [
    {
     "name": "stdout",
     "output_type": "stream",
     "text": [
      "Model accuracy:  0.8817919868894382\n"
     ]
    }
   ],
   "source": [
    "#cross validate scores\n",
    "scores = cross_val_score(knn, X, y, cv =5)\n",
    "print('Model accuracy: ',np.mean(scores))"
   ]
  },
  {
   "cell_type": "code",
   "execution_count": 47,
   "id": "7b8c45fb",
   "metadata": {},
   "outputs": [],
   "source": [
    "#Scaling the predictive variables\n",
    "preds_knn = knn.predict(X_test_ss)\n",
    "probs_knn = knn.predict_proba(X_test_ss)"
   ]
  },
  {
   "cell_type": "code",
   "execution_count": 48,
   "id": "f0323e41",
   "metadata": {},
   "outputs": [
    {
     "name": "stdout",
     "output_type": "stream",
     "text": [
      "log loss:  1.0035985340534541\n",
      "accuracy:  0.894484412470024\n",
      "precision: 0.8936170212765957\n",
      "recall:    0.336\n"
     ]
    }
   ],
   "source": [
    "#Printing out the scores of log loss, accuracy, precision, and recall. \n",
    "print(\"log loss: \", log_loss(y_test, probs_knn))\n",
    "print(\"accuracy: \", accuracy_score(y_test, preds_knn))\n",
    "print(\"precision:\", precision_score(y_test, preds_knn))\n",
    "print(\"recall:   \", recall_score(y_test, preds_knn))"
   ]
  },
  {
   "cell_type": "markdown",
   "id": "77994708",
   "metadata": {},
   "source": [
    "This knn model has 89% accuracy, which unforunately is the same as the baseline K-Nearest Model. Hypertuning the model did not have a strong effect. "
   ]
  },
  {
   "cell_type": "markdown",
   "id": "04148747",
   "metadata": {},
   "source": [
    "## Random Forests"
   ]
  },
  {
   "cell_type": "code",
   "execution_count": 49,
   "id": "0092dae2",
   "metadata": {},
   "outputs": [
    {
     "data": {
      "image/png": "[encoded data removed]",
      "text/plain": [
       "<Figure size 748.8x514.8 with 1 Axes>"
      ]
     },
     "metadata": {
      "needs_background": "light"
     },
     "output_type": "display_data"
    }
   ],
   "source": [
    "#plotting feature importance using random forests classifier\n",
    "feature_names = [f\"feature {i}\" for i in range(X.shape[1])]\n",
    "forest = RandomForestClassifier(random_state=0)\n",
    "forest.fit(X_train, y_train)\n",
    "\n",
    "importances = forest.feature_importances_\n",
    "feature_importance_df = pd.DataFrame(\n",
    "    forest.feature_importances_, \n",
    "    columns=['importance']\n",
    "    )\n",
    "\n",
    "# Add feature names.\n",
    "feature_importance_df['feature'] = X.columns\n",
    "\n",
    "# For vanity...\n",
    "feature_importance_df['feature'] = (\n",
    "    feature_importance_df['feature']\n",
    "    .apply(str.title)\n",
    "    )\n",
    "\n",
    "# Sort the data!\n",
    "feature_importance_df.sort_values('importance', inplace=True)\n",
    "feature_importance_df\n",
    "\n",
    "# Plot feature importances.\n",
    "with plt.style.context(['seaborn-talk']):\n",
    "    fig, ax = plt.subplots()\n",
    "    ax.barh(\n",
    "        y=feature_importance_df['feature'],\n",
    "        width=feature_importance_df['importance'],\n",
    "        color = ['#ff9999','#66b3ff','#99ff99','#ffcc99'],\n",
    "        )\n",
    "    ax.set(\n",
    "        title='Feature Importances\\n(Sorted By Length)',\n",
    "        xlabel='Importance',\n",
    "        ylabel='Feature'\n",
    "        )"
   ]
  },
  {
   "cell_type": "code",
   "execution_count": 50,
   "id": "e9b33251",
   "metadata": {},
   "outputs": [
    {
     "data": {
      "image/png": "[encoded data removed]",
      "text/plain": [
       "<Figure size 432x288 with 1 Axes>"
      ]
     },
     "metadata": {},
     "output_type": "display_data"
    }
   ],
   "source": [
    "#Creating a pie chart figure of the random forest importancess \n",
    "labels = feature_importance_df['feature']\n",
    "sizes = feature_importance_df['importance']\n",
    "colors = ['#ff9999','#66b3ff','#99ff99','#ffcc99']\n",
    "fig1, ax1 = plt.subplots()\n",
    "\n",
    "\n",
    "plt.pie(sizes, colors = colors, labels=labels, startangle=150, pctdistance=0.100)\n",
    "#draw circle\n",
    "centre_circle = plt.Circle((0,0),0.70,fc='white')\n",
    "fig = plt.gcf()\n",
    "fig.gca().add_artist(centre_circle)\n",
    "ax1.axis('equal')\n",
    "plt.tight_layout()\n",
    "plt.title('Feature Importances')\n",
    "plt.show()"
   ]
  },
  {
   "cell_type": "code",
   "execution_count": 51,
   "id": "035def19",
   "metadata": {},
   "outputs": [
    {
     "name": "stdout",
     "output_type": "stream",
     "text": [
      "Fitting 3 folds for each of 100 candidates, totalling 300 fits\n",
      "Best: 0.955582 using {'n_estimators': 600, 'min_samples_split': 5, 'min_samples_leaf': 1, 'max_features': 'sqrt', 'max_depth': 60, 'bootstrap': False}\n"
     ]
    }
   ],
   "source": [
    "#gridsearch for best parameters in random forest\n",
    "rf = RandomForestClassifier()   \n",
    "n_estimators = [int(x) for x in np.linspace(start = 200, stop = 2000, num = 10)]\n",
    "max_depth = [int(x) for x in np.linspace(10, 110, num = 11)]\n",
    "max_depth.append(None)\n",
    "max_features = ['auto', 'sqrt']\n",
    "min_samples_leaf = [1, 2, 4]\n",
    "bootstrap = [True, False]\n",
    "min_samples_split = [2, 5, 10]\n",
    "random_grid = {'n_estimators': n_estimators,\n",
    "               'max_features': max_features,\n",
    "               'max_depth': max_depth,\n",
    "               'min_samples_split': min_samples_split,\n",
    "               'min_samples_leaf': min_samples_leaf,\n",
    "               'bootstrap': bootstrap}\n",
    "\n",
    "\n",
    "rf_random = RandomizedSearchCV(estimator = rf, param_distributions = random_grid, n_iter = 100, cv = 3, verbose=2, random_state=42, n_jobs = -1)\n",
    "grid_result_rf = rf_random.fit(X_train_ss, y_train)\n",
    "# summarize results\n",
    "print(\"Best: %f using %s\" % (grid_result_rf.best_score_, grid_result_rf.best_params_))"
   ]
  },
  {
   "cell_type": "markdown",
   "id": "6b413723",
   "metadata": {},
   "source": [
    "The best parameters chosen for this Random Forest model are 1000 n_estimators, which is how many trees are in this forest, 5 min_samples_split, which is the minimum number of samples required to split an internal node, 2 min_samples_leaf, which can have a smoothing effect on the model, a sqrt max_features, which is the default to split features, 100 max depth, which  the number of nodes from the root down to the furthest leaf node, and False for bootstrap, which means that the entire dataset was used to build this random forest. "
   ]
  },
  {
   "cell_type": "code",
   "execution_count": 53,
   "id": "a9294d6d",
   "metadata": {},
   "outputs": [
    {
     "data": {
      "text/plain": [
       "RandomForestClassifier(bootstrap=False, max_depth=100, max_features='sqrt',\n",
       "                       min_samples_leaf=2, min_samples_split=5,\n",
       "                       n_estimators=1000)"
      ]
     },
     "execution_count": 53,
     "metadata": {},
     "output_type": "execute_result"
    }
   ],
   "source": [
    "# fitting the best parameters to new rf model \n",
    "rf = RandomForestClassifier(n_estimators= 1000, min_samples_split= 5, min_samples_leaf= 2, max_features= 'sqrt', max_depth= 100, bootstrap= False)\n",
    "rf.fit(X_train_ss, y_train)"
   ]
  },
  {
   "cell_type": "code",
   "execution_count": 54,
   "id": "a2136090",
   "metadata": {},
   "outputs": [
    {
     "name": "stdout",
     "output_type": "stream",
     "text": [
      "Training set accuracy:  0.9484412470023981\n"
     ]
    }
   ],
   "source": [
    "y_test_pred = grid_result_rf.predict(X_test_ss)\n",
    "(y_test_pred == 0).sum()\n",
    "print('Training set accuracy: ', metrics.accuracy_score(y_test, y_test_pred))"
   ]
  },
  {
   "cell_type": "code",
   "execution_count": 55,
   "id": "40efb480",
   "metadata": {},
   "outputs": [
    {
     "name": "stdout",
     "output_type": "stream",
     "text": [
      "Training set accuracy:  0.9995998399359743\n",
      "Test set accuracy:  0.39448441247002397\n"
     ]
    }
   ],
   "source": [
    "#Accuracy of the training set with the rf evaluator\n",
    "y_hat_rf = rf.predict(X_train_ss)\n",
    "y_rf = rf.predict(X_test)\n",
    "print('Training set accuracy: ', metrics.accuracy_score(y_train, y_hat_rf))\n",
    "print('Test set accuracy: ',metrics.accuracy_score(y_test, y_rf))"
   ]
  },
  {
   "cell_type": "markdown",
   "id": "6fb80ed9",
   "metadata": {},
   "source": [
    "Although the training set accuracy is 1 with rounding up from 99%, the test set accuracy is only 40% which could mean that this model is overfit."
   ]
  },
  {
   "cell_type": "code",
   "execution_count": 56,
   "id": "ac9a1462",
   "metadata": {},
   "outputs": [],
   "source": [
    "#Scaling the predictive variables\n",
    "preds_rf = rf.predict(X_test_ss)\n",
    "probs_rf = rf.predict_proba(X_test_ss)"
   ]
  },
  {
   "cell_type": "code",
   "execution_count": 57,
   "id": "1db00f04",
   "metadata": {},
   "outputs": [
    {
     "name": "stdout",
     "output_type": "stream",
     "text": [
      "[[224 485]\n",
      " [ 20 105]]\n"
     ]
    },
    {
     "data": {
      "image/png": "[encoded data removed]",
      "text/plain": [
       "<Figure size 1512x504 with 3 Axes>"
      ]
     },
     "metadata": {
      "needs_background": "light"
     },
     "output_type": "display_data"
    }
   ],
   "source": [
    "#creating the confusion matrix of improved rf model and confusion matrix heatmap\n",
    "\n",
    "print(confusion_matrix(y_test, y_rf))\n",
    "fig, [ax1, ax2, ax3] = plt.subplots(1, 3, figsize=(21, 7))\n",
    "cm = confusion_matrix(y_test, y_rf)\n",
    "sns.heatmap(cm, annot = True, cbar = False, fmt = \"d\", linewidths = .5, cmap = \"Blues\", ax = ax1)\n",
    "ax1.set_title(\"Confusion Matrix\")\n",
    "ax1.set_xlabel(\"Predicted class\")\n",
    "ax1.set_ylabel(\"Actual class\")\n",
    "fig.tight_layout()\n",
    "\n",
    "\n",
    "plt.show()"
   ]
  },
  {
   "cell_type": "code",
   "execution_count": 58,
   "id": "ba76ccc8",
   "metadata": {},
   "outputs": [
    {
     "data": {
      "image/png": "[encoded data removed]",
      "text/plain": [
       "<Figure size 432x288 with 1 Axes>"
      ]
     },
     "metadata": {
      "needs_background": "light"
     },
     "output_type": "display_data"
    }
   ],
   "source": [
    "# Testing ROC on this model\n",
    "logit_roc_auc = roc_auc_score(preds_rf, logreg.predict(X_test_ss))\n",
    "fpr, tpr, thresholds = roc_curve(y_test, logreg.predict_proba(X_test_ss)[:,1])\n",
    "plt.figure()\n",
    "plt.plot(fpr, tpr, label='Logistic Regression (area = %0.2f)' % logit_roc_auc)\n",
    "plt.plot([0, 1], [0, 1],'r--')\n",
    "plt.xlim([0.0, 1.0])\n",
    "plt.ylim([0.0, 1.05])\n",
    "plt.xlabel('False Positive Rate')\n",
    "plt.ylabel('True Positive Rate')\n",
    "plt.title('Receiver operating characteristic')\n",
    "plt.legend(loc=\"lower right\")\n",
    "plt.savefig('Log_ROC')\n",
    "plt.show()"
   ]
  },
  {
   "cell_type": "code",
   "execution_count": 59,
   "id": "03d6dbc0",
   "metadata": {},
   "outputs": [
    {
     "name": "stdout",
     "output_type": "stream",
     "text": [
      "              precision    recall  f1-score   support\n",
      "\n",
      "           0       0.92      0.32      0.47       709\n",
      "           1       0.18      0.84      0.29       125\n",
      "\n",
      "    accuracy                           0.39       834\n",
      "   macro avg       0.55      0.58      0.38       834\n",
      "weighted avg       0.81      0.39      0.44       834\n",
      "\n"
     ]
    }
   ],
   "source": [
    "#classification report of the improved rf model\n",
    "print(classification_report(y_test, y_rf))"
   ]
  },
  {
   "cell_type": "code",
   "execution_count": 60,
   "id": "09ad98c8",
   "metadata": {
    "scrolled": true
   },
   "outputs": [
    {
     "name": "stdout",
     "output_type": "stream",
     "text": [
      "Model accuracy:  0.8817919868894382\n"
     ]
    }
   ],
   "source": [
    "#cross validate scores\n",
    "scores_rf = cross_val_score(rf, X, y, cv =5)\n",
    "print('Model accuracy: ',np.mean(scores))"
   ]
  },
  {
   "cell_type": "code",
   "execution_count": 61,
   "id": "f01f4bc3",
   "metadata": {},
   "outputs": [
    {
     "name": "stdout",
     "output_type": "stream",
     "text": [
      "log loss:  0.17282087518155526\n",
      "accuracy:  0.9460431654676259\n",
      "precision: 0.925531914893617\n",
      "recall:    0.696\n"
     ]
    }
   ],
   "source": [
    "#Printing out the scores of log loss, accuracy, precision, and recall. \n",
    "print(\"log loss: \", log_loss(y_test, probs_rf))\n",
    "print(\"accuracy: \", accuracy_score(y_test, preds_rf))\n",
    "print(\"precision:\", precision_score(y_test, preds_rf))\n",
    "print(\"recall:   \", recall_score(y_test, preds_rf))"
   ]
  },
  {
   "cell_type": "code",
   "execution_count": 63,
   "id": "8255a2b1",
   "metadata": {},
   "outputs": [
    {
     "name": "stdout",
     "output_type": "stream",
     "text": [
      "[[702   7]\n",
      " [ 38  87]]\n"
     ]
    }
   ],
   "source": [
    "print(confusion_matrix(y_test, preds_rf))"
   ]
  },
  {
   "cell_type": "markdown",
   "id": "47536560",
   "metadata": {},
   "source": [
    "The baseline Random Forest has an accuracy of 94% and the hypertuned model was able to slightly improve to a 95% accuracy. "
   ]
  },
  {
   "cell_type": "markdown",
   "id": "4633b822",
   "metadata": {},
   "source": [
    "## Comparing the hypertuned models"
   ]
  },
  {
   "cell_type": "code",
   "execution_count": 64,
   "id": "4339161f",
   "metadata": {},
   "outputs": [],
   "source": [
    "#Comparing the hypertuned models\n",
    "models_tuned = {}\n",
    "\n",
    "# Logistic Regression\n",
    "models_tuned['Logistic Regression'] =LogisticRegression(C=0.0001, class_weight='balanced', max_iter=20, penalty='l1', random_state=1234,\n",
    "                   solver='liblinear')\n",
    "\n",
    "# Random Forest\n",
    "models_tuned['Random Forest'] = RandomForestClassifier(n_estimators= 1000, min_samples_split= 5, min_samples_leaf= 2, max_features= 'sqrt', max_depth= 100, bootstrap= False)\n",
    "\n",
    "\n",
    "# K-Nearest Neighbors\n",
    "models_tuned['K-Nearest Neighbor'] = KNeighborsClassifier(n_neighbors = 5, weights = 'uniform',metric = 'manhattan')"
   ]
  },
  {
   "cell_type": "code",
   "execution_count": 65,
   "id": "e74e46b3",
   "metadata": {},
   "outputs": [],
   "source": [
    "#looking for accuracy, precision and recall scores within the hypertuned models\n",
    "accuracy, precision, recall = {}, {}, {}\n",
    "\n",
    "for keys in models_tuned.keys():\n",
    "    \n",
    "    # Fit the classifier\n",
    "    models_tuned[keys].fit(X_train_ss, y_train)\n",
    "    \n",
    "    # Make predictions\n",
    "    predictions = models_tuned[keys].predict(X_test_ss)\n",
    "    \n",
    "    # Calculate metrics\n",
    "    accuracy[keys] = accuracy_score(predictions, y_test)\n",
    "    precision[keys] = precision_score(predictions, y_test)\n",
    "    recall[keys] = recall_score(predictions, y_test)\n",
    "    "
   ]
  },
  {
   "cell_type": "code",
   "execution_count": 66,
   "id": "37f5d617",
   "metadata": {},
   "outputs": [
    {
     "name": "stdout",
     "output_type": "stream",
     "text": [
      "+---------------------+------------+\n",
      "|                     |   Accuracy |\n",
      "+=====================+============+\n",
      "| Logistic Regression |   0.85012  |\n",
      "+---------------------+------------+\n",
      "| Random Forest       |   0.946043 |\n",
      "+---------------------+------------+\n",
      "| K-Nearest Neighbor  |   0.894484 |\n",
      "+---------------------+------------+\n"
     ]
    },
    {
     "data": {
      "text/plain": [
       "<Figure size 432x288 with 0 Axes>"
      ]
     },
     "metadata": {},
     "output_type": "display_data"
    }
   ],
   "source": [
    "#create table and image of table comparing the accuracy between the hypertuned models\n",
    "df_model_tuned = pd.DataFrame(index=models_tuned.keys(), columns=['Accuracy'])\n",
    "df_model_tuned['Accuracy'] = accuracy.values()\n",
    "\n",
    "columns=['Accuracy']\n",
    "\n",
    "\n",
    "hypertuned_models = (tabulate(df_model_tuned, headers = columns, tablefmt=\"grid\"))\n",
    "print(hypertuned_models)\n",
    "\n",
    "plt.savefig('hypertuned_models.png')\n",
    "dfi.export(df_model_tuned, \"hypertuned_models.png\")"
   ]
  },
  {
   "cell_type": "markdown",
   "id": "73e8009c",
   "metadata": {},
   "source": [
    "![](hypertuned_models.png)"
   ]
  },
  {
   "cell_type": "code",
   "execution_count": 67,
   "id": "9132d34a",
   "metadata": {},
   "outputs": [
    {
     "data": {
      "image/png": "[encoded data removed]",
      "text/plain": [
       "<Figure size 432x288 with 1 Axes>"
      ]
     },
     "metadata": {
      "needs_background": "light"
     },
     "output_type": "display_data"
    }
   ],
   "source": [
    "#Plotting the accuracy, precision and recall scores of the hypertuned models\n",
    "ax = df_model_tuned.plot.barh(color = colors)\n",
    "colors = ['#ff9999','#66b3ff','#99ff99','#ffcc99']\n",
    "ax.set_title('Hypertuned Model Comparison')\n",
    "ax.set_xlabel('Accuracy')\n",
    "ax.set_ylabel('Models')\n",
    "ax.legend(\n",
    "    ncol=len(models_tuned.keys()), \n",
    "    \n",
    ")\n",
    "plt.tight_layout()"
   ]
  },
  {
   "cell_type": "markdown",
   "id": "c22cdb59",
   "metadata": {},
   "source": [
    "## Creating New Data to Evaluate Best Model"
   ]
  },
  {
   "cell_type": "code",
   "execution_count": 68,
   "id": "70435790",
   "metadata": {},
   "outputs": [
    {
     "name": "stdout",
     "output_type": "stream",
     "text": [
      "54.46738920237142\n"
     ]
    }
   ],
   "source": [
    "#Creating a new dataset copied from the original data to manipulate the features and evaulate the hypertuned models\n",
    "df.head()\n",
    "print(df[\"total day minutes\"].std())\n",
    "df_new_1 = df.copy()\n",
    "df_new_1[\"total day minutes\"] = df_new_1[\"total day minutes\"] - 54\n"
   ]
  },
  {
   "cell_type": "code",
   "execution_count": 69,
   "id": "b27906f2",
   "metadata": {},
   "outputs": [],
   "source": [
    "#create training sets to start modeling and prediction upon the data\n",
    "y = churn.astype(int)\n",
    "X = df_new_1.drop(columns=['churn'], axis=1)\n",
    "X_train, X_test, y_train, y_test = train_test_split(\n",
    "    X, y, test_size=0.25, random_state=42)\n",
    "#Normalize the data to prevent leakage\n",
    "ss = StandardScaler()\n",
    "X_train_new = ss.fit_transform(X_train)\n",
    "\n",
    "X_test_new = ss.transform(X_test)"
   ]
  },
  {
   "cell_type": "code",
   "execution_count": 70,
   "id": "ec0a8342",
   "metadata": {},
   "outputs": [
    {
     "name": "stdout",
     "output_type": "stream",
     "text": [
      "Fitting 3 folds for each of 100 candidates, totalling 300 fits\n"
     ]
    }
   ],
   "source": [
    "#fitting random forest to the newly created data set\n",
    "rf_new = rf_random.fit(X_train_new, y_train)"
   ]
  },
  {
   "cell_type": "code",
   "execution_count": 71,
   "id": "e2bf677b",
   "metadata": {},
   "outputs": [
    {
     "name": "stdout",
     "output_type": "stream",
     "text": [
      "Training set accuracy:  0.9995998399359743\n",
      "Test set accuracy:  0.947242206235012\n"
     ]
    }
   ],
   "source": [
    "#Evaluating the model through the training and test scores \n",
    "y_predict_new = rf_new.predict(X_train_new)\n",
    "y_rf_new = rf_new.predict(X_test_new)\n",
    "print('Training set accuracy: ', metrics.accuracy_score(y_train, y_predict_new))\n",
    "print('Test set accuracy: ',metrics.accuracy_score(y_test, y_rf_new))"
   ]
  },
  {
   "cell_type": "code",
   "execution_count": 72,
   "id": "a0210384",
   "metadata": {},
   "outputs": [],
   "source": [
    "#creating a dataframe of the training and test accuracy scores\n",
    "df_model_new = pd.DataFrame(index=[['Training set accuracy: ', metrics.accuracy_score(y_train, y_predict_new)], ['Test set accuracy: ', metrics.accuracy_score(y_test, y_rf_new)]], columns=['Accuracy'])"
   ]
  },
  {
   "cell_type": "code",
   "execution_count": 73,
   "id": "2d731cf1",
   "metadata": {},
   "outputs": [
    {
     "name": "stdout",
     "output_type": "stream",
     "text": [
      "train/test                Accuracy\n",
      "----------------------  ----------\n",
      "Training set accuracy:    0.9996\n",
      "Test set accuracy:        0.947242\n"
     ]
    },
    {
     "data": {
      "text/plain": [
       "<Figure size 432x288 with 0 Axes>"
      ]
     },
     "metadata": {},
     "output_type": "display_data"
    }
   ],
   "source": [
    "#printing the train and test scores for the random forest model on the new data\n",
    "train_test_acc_1 = (tabulate([['Training set accuracy: ', metrics.accuracy_score(y_train, y_predict_new)], ['Test set accuracy: ', metrics.accuracy_score(y_test, y_rf_new)]], headers=['train/test', 'Accuracy']))\n",
    "print(train_test_acc_1)\n",
    "\n",
    "plt.savefig('train_test_acc_1.png')\n",
    "dfi.export(df_model_new, \"train_test_acc_1.png\")"
   ]
  },
  {
   "cell_type": "markdown",
   "id": "8fb07f4a",
   "metadata": {},
   "source": [
    "Both the training set accuracy and test set accuracy are high, over 95%, which means that the random forest model is applicable and improves when lessening total day minutes by standard deviation because it is a key feature in churn for this data."
   ]
  },
  {
   "cell_type": "code",
   "execution_count": 75,
   "id": "5ca0302c",
   "metadata": {},
   "outputs": [],
   "source": [
    "#create 2nd training sets to start modeling and prediction upon the data while dropping total day charge due to possible collinearity\n",
    "df_new_2 = df.copy()\n",
    "df_new_2[\"total day minutes\"] = df_new_2[\"total day minutes\"] - 54\n",
    "\n",
    "y = churn.astype(int)\n",
    "X = df_new_2.drop(columns=['churn', 'total day charge'], axis=1)\n",
    "X_train, X_test, y_train, y_test = train_test_split(\n",
    "    X, y, test_size=0.25, random_state=42)\n",
    "#Normalize the data to prevent leakage\n",
    "ss = StandardScaler()\n",
    "X_train_new_2 = ss.fit_transform(X_train)\n",
    "\n",
    "X_test_new_2 = ss.transform(X_test)"
   ]
  },
  {
   "cell_type": "code",
   "execution_count": 76,
   "id": "ab7ed830",
   "metadata": {},
   "outputs": [
    {
     "name": "stdout",
     "output_type": "stream",
     "text": [
      "Fitting 3 folds for each of 100 candidates, totalling 300 fits\n"
     ]
    }
   ],
   "source": [
    "rf_new_2 = rf_random.fit(X_train_new_2, y_train)"
   ]
  },
  {
   "cell_type": "code",
   "execution_count": 77,
   "id": "86ecdd3a",
   "metadata": {},
   "outputs": [
    {
     "name": "stdout",
     "output_type": "stream",
     "text": [
      "Training set accuracy:  1.0\n",
      "Test set accuracy:  0.9508393285371702\n"
     ]
    }
   ],
   "source": [
    "y_predict_new_2 = rf_new_2.predict(X_train_new_2)\n",
    "y_rf_new_2 = rf_new_2.predict(X_test_new_2)\n",
    "print('Training set accuracy: ', metrics.accuracy_score(y_train, y_predict_new_2))\n",
    "print('Test set accuracy: ',metrics.accuracy_score(y_test, y_rf_new_2))"
   ]
  },
  {
   "cell_type": "code",
   "execution_count": 78,
   "id": "103d0949",
   "metadata": {},
   "outputs": [
    {
     "name": "stdout",
     "output_type": "stream",
     "text": [
      "train/test                Accuracy\n",
      "----------------------  ----------\n",
      "Training set accuracy:    1\n",
      "Test set accuracy:        0.950839\n"
     ]
    },
    {
     "data": {
      "text/plain": [
       "<Figure size 432x288 with 0 Axes>"
      ]
     },
     "metadata": {},
     "output_type": "display_data"
    }
   ],
   "source": [
    "#printing the train and test scores for the random forest model on the new data\n",
    "train_test_acc_2 = (tabulate([['Training set accuracy: ', metrics.accuracy_score(y_train, y_predict_new_2)], ['Test set accuracy: ', metrics.accuracy_score(y_test, y_rf_new_2)]], headers=['train/test', 'Accuracy']))\n",
    "print(train_test_acc_2)\n",
    "\n",
    "plt.savefig('train_test_acc_2.png')\n",
    "dfi.export(df_model_tuned, \"train_test_acc_2.png\")"
   ]
  },
  {
   "cell_type": "markdown",
   "id": "429e49bc",
   "metadata": {},
   "source": [
    "# Final Results"
   ]
  },
  {
   "cell_type": "markdown",
   "id": "c8edefec",
   "metadata": {},
   "source": [
    "When finding a model to predict the amount of churning of customers from SyriaTel, we found that Random Forest was performing the best in accuracy overall, the baseline and hypertuned models both were the highest for accuracy.\n",
    "\n",
    "In order to use the best hyperparameters a gridsearch was used for the three baseline models with the highest accuracy. They were Logistic Regression, K-N-Neighbors, and Random Forest. \n",
    "\n",
    "We were not able to increase the performance of our models by too high of a percentage because the base models were already over 85% and for random forest 94%. However, the Random Forest hypertuned model did perform slightly higher with accuracy. \n",
    "\n",
    "Using this hypertuned Random Forest model as the best model, we copied new datasets from the original data and manipulated the features most strongly correlated to churn, total day minutes and total day charge. \n",
    "\n",
    "For the first manipuated copied data, we lessened total day minutes down from one standard deviation. It produced a training set accuracy of 0.9996 and a test set accuracy of 0.947242, greatly supporting this model and the importance of this feature in terms of churn. \n",
    "\n",
    "For the second manipuated copied data, we kept the one standard deviation lessened total day minutes, but we also dropped total day charge from the data set because of the potential for collinearity. It did slightly improve the training set to 1 and the test set to .951. \n",
    "\n",
    "In conclusion, the features of total day minutes and total day charge are correlated to the amount of churn from SyriaTel. I would advice SyriaTel to encourage their employees or provide training to lessen the total day minutes per call and also reevulate the total day charge. It is possible that hourly charge could reduce churn. "
   ]
  },
  {
   "cell_type": "code",
   "execution_count": null,
   "id": "bc5462d8",
   "metadata": {},
   "outputs": [],
   "source": []
  }
 ],
 "metadata": {
  "kernelspec": {
   "display_name": "Python (learn-env)",
   "language": "python",
   "name": "learn-env"
  },
  "language_info": {
   "codemirror_mode": {
    "name": "ipython",
    "version": 3
   },
   "file_extension": ".py",
   "mimetype": "text/x-python",
   "name": "python",
   "nbconvert_exporter": "python",
   "pygments_lexer": "ipython3",
   "version": "3.9.7"
  }
 },
 "nbformat": 4,
 "nbformat_minor": 5
}
