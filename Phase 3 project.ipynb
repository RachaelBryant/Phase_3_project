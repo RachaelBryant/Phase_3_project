{
 "cells": [
  {
   "cell_type": "markdown",
   "id": "4e58ab00",
   "metadata": {},
   "source": [
    " # SyriaTel Customer Churn Analysis"
   ]
  },
  {
   "cell_type": "code",
   "execution_count": 218,
   "id": "c78769f4",
   "metadata": {},
   "outputs": [
    {
     "ename": "SyntaxError",
     "evalue": "invalid syntax (Temp/ipykernel_11696/1945254084.py, line 1)",
     "output_type": "error",
     "traceback": [
      "\u001b[1;36m  File \u001b[1;32m\"C:\\Users\\racha\\AppData\\Local\\Temp/ipykernel_11696/1945254084.py\"\u001b[1;36m, line \u001b[1;32m1\u001b[0m\n\u001b[1;33m    <img src=\"images/syriaTellogo.jpg\" width=400 height=400 />\u001b[0m\n\u001b[1;37m    ^\u001b[0m\n\u001b[1;31mSyntaxError\u001b[0m\u001b[1;31m:\u001b[0m invalid syntax\n"
     ]
    }
   ],
   "source": [
    "<img src=\"images/syriaTellogo.jpg\" width=400 height=400 />"
   ]
  },
  {
   "cell_type": "markdown",
   "id": "ae9b6d31",
   "metadata": {},
   "source": [
    "## Overview "
   ]
  },
  {
   "cell_type": "code",
   "execution_count": 219,
   "id": "b34cb334",
   "metadata": {},
   "outputs": [
    {
     "ename": "SyntaxError",
     "evalue": "invalid syntax (Temp/ipykernel_11696/3755845462.py, line 1)",
     "output_type": "error",
     "traceback": [
      "\u001b[1;36m  File \u001b[1;32m\"C:\\Users\\racha\\AppData\\Local\\Temp/ipykernel_11696/3755845462.py\"\u001b[1;36m, line \u001b[1;32m1\u001b[0m\n\u001b[1;33m    <img src=\"images/syriaTel.jpg\" width=400 height=400 />\u001b[0m\n\u001b[1;37m    ^\u001b[0m\n\u001b[1;31mSyntaxError\u001b[0m\u001b[1;31m:\u001b[0m invalid syntax\n"
     ]
    }
   ],
   "source": [
    "<img src=\"images/syriaTel.jpg\" width=400 height=400 />"
   ]
  },
  {
   "cell_type": "markdown",
   "id": "9f097c58",
   "metadata": {},
   "source": [
    "This project analyses aspects of telecommunications to understand what causes people to stop taking the calls/doing business with them. This project uses logistic regression, random forest and k nearest neighbor to understand this binary classification problem."
   ]
  },
  {
   "cell_type": "markdown",
   "id": "80bc5fb2",
   "metadata": {},
   "source": [
    "## Business Problem"
   ]
  },
  {
   "cell_type": "markdown",
   "id": "63cbe1ae",
   "metadata": {},
   "source": [
    "SyriaTel, a telecommunications company wants to know whether there are any indicators of whether a customer will stop doing business with them. The goal is to predict what measures are causing customers to 'churn' or leave the Telecom company. This could lead to customer retention if understanding what aspects of the customer interaction are causing them to 'churn'. "
   ]
  },
  {
   "cell_type": "markdown",
   "id": "f87f60e0",
   "metadata": {},
   "source": [
    "## Data Understanding"
   ]
  },
  {
   "cell_type": "code",
   "execution_count": 159,
   "id": "eb97c8b9",
   "metadata": {},
   "outputs": [],
   "source": [
    "#impost necessary libraries\n",
    "import pandas as pd \n",
    "import numpy as np \n",
    "import seaborn as sns\n",
    "import matplotlib.pyplot as plt\n",
    "%matplotlib inline\n",
    "import sklearn\n",
    "from sklearn.model_selection import train_test_split\n",
    "from sklearn.tree import DecisionTreeClassifier \n",
    "from sklearn.metrics import accuracy_score, roc_curve, auc\n",
    "from sklearn import tree \n",
    "from sklearn.preprocessing import OneHotEncoder\n",
    "from sklearn.model_selection import train_test_split, GridSearchCV, cross_val_score\n",
    "from sklearn.ensemble import RandomForestClassifier, AdaBoostClassifier\n",
    "from sklearn.metrics import accuracy_score, confusion_matrix, classification_report, recall_score,precision_score,f1_score,log_loss\n",
    "from sklearn.metrics import classification_report\n",
    "from sklearn.tree import DecisionTreeClassifier\n",
    "from sklearn.ensemble import BaggingClassifier, RandomForestClassifier\n",
    "from sklearn.preprocessing import StandardScaler\n",
    "from sklearn.linear_model import LogisticRegression\n",
    "from sklearn.metrics import roc_auc_score\n",
    "from sklearn.metrics import ConfusionMatrixDisplay\n",
    "from sklearn.neighbors import KNeighborsClassifier\n",
    "import warnings; warnings.filterwarnings('ignore')\n",
    "from sklearn import metrics\n",
    "from sklearn.ensemble import RandomForestRegressor\n",
    "from sklearn.naive_bayes import GaussianNB\n",
    "from sklearn.svm import LinearSVC\n",
    "from sklearn.model_selection import RandomizedSearchCV\n",
    "from tabulate import tabulate\n",
    "import dataframe_image as dfi\n",
    "from pandas.plotting import table "
   ]
  },
  {
   "cell_type": "code",
   "execution_count": 2,
   "id": "17729c85",
   "metadata": {},
   "outputs": [
    {
     "data": {
      "text/html": [
       "<div>\n",
       "<style scoped>\n",
       "    .dataframe tbody tr th:only-of-type {\n",
       "        vertical-align: middle;\n",
       "    }\n",
       "\n",
       "    .dataframe tbody tr th {\n",
       "        vertical-align: top;\n",
       "    }\n",
       "\n",
       "    .dataframe thead th {\n",
       "        text-align: right;\n",
       "    }\n",
       "</style>\n",
       "<table border=\"1\" class=\"dataframe\">\n",
       "  <thead>\n",
       "    <tr style=\"text-align: right;\">\n",
       "      <th></th>\n",
       "      <th>state</th>\n",
       "      <th>account length</th>\n",
       "      <th>area code</th>\n",
       "      <th>phone number</th>\n",
       "      <th>international plan</th>\n",
       "      <th>voice mail plan</th>\n",
       "      <th>number vmail messages</th>\n",
       "      <th>total day minutes</th>\n",
       "      <th>total day calls</th>\n",
       "      <th>total day charge</th>\n",
       "      <th>...</th>\n",
       "      <th>total eve calls</th>\n",
       "      <th>total eve charge</th>\n",
       "      <th>total night minutes</th>\n",
       "      <th>total night calls</th>\n",
       "      <th>total night charge</th>\n",
       "      <th>total intl minutes</th>\n",
       "      <th>total intl calls</th>\n",
       "      <th>total intl charge</th>\n",
       "      <th>customer service calls</th>\n",
       "      <th>churn</th>\n",
       "    </tr>\n",
       "  </thead>\n",
       "  <tbody>\n",
       "    <tr>\n",
       "      <th>0</th>\n",
       "      <td>KS</td>\n",
       "      <td>128</td>\n",
       "      <td>415</td>\n",
       "      <td>382-4657</td>\n",
       "      <td>no</td>\n",
       "      <td>yes</td>\n",
       "      <td>25</td>\n",
       "      <td>265.1</td>\n",
       "      <td>110</td>\n",
       "      <td>45.07</td>\n",
       "      <td>...</td>\n",
       "      <td>99</td>\n",
       "      <td>16.78</td>\n",
       "      <td>244.7</td>\n",
       "      <td>91</td>\n",
       "      <td>11.01</td>\n",
       "      <td>10.0</td>\n",
       "      <td>3</td>\n",
       "      <td>2.70</td>\n",
       "      <td>1</td>\n",
       "      <td>False</td>\n",
       "    </tr>\n",
       "    <tr>\n",
       "      <th>1</th>\n",
       "      <td>OH</td>\n",
       "      <td>107</td>\n",
       "      <td>415</td>\n",
       "      <td>371-7191</td>\n",
       "      <td>no</td>\n",
       "      <td>yes</td>\n",
       "      <td>26</td>\n",
       "      <td>161.6</td>\n",
       "      <td>123</td>\n",
       "      <td>27.47</td>\n",
       "      <td>...</td>\n",
       "      <td>103</td>\n",
       "      <td>16.62</td>\n",
       "      <td>254.4</td>\n",
       "      <td>103</td>\n",
       "      <td>11.45</td>\n",
       "      <td>13.7</td>\n",
       "      <td>3</td>\n",
       "      <td>3.70</td>\n",
       "      <td>1</td>\n",
       "      <td>False</td>\n",
       "    </tr>\n",
       "    <tr>\n",
       "      <th>2</th>\n",
       "      <td>NJ</td>\n",
       "      <td>137</td>\n",
       "      <td>415</td>\n",
       "      <td>358-1921</td>\n",
       "      <td>no</td>\n",
       "      <td>no</td>\n",
       "      <td>0</td>\n",
       "      <td>243.4</td>\n",
       "      <td>114</td>\n",
       "      <td>41.38</td>\n",
       "      <td>...</td>\n",
       "      <td>110</td>\n",
       "      <td>10.30</td>\n",
       "      <td>162.6</td>\n",
       "      <td>104</td>\n",
       "      <td>7.32</td>\n",
       "      <td>12.2</td>\n",
       "      <td>5</td>\n",
       "      <td>3.29</td>\n",
       "      <td>0</td>\n",
       "      <td>False</td>\n",
       "    </tr>\n",
       "    <tr>\n",
       "      <th>3</th>\n",
       "      <td>OH</td>\n",
       "      <td>84</td>\n",
       "      <td>408</td>\n",
       "      <td>375-9999</td>\n",
       "      <td>yes</td>\n",
       "      <td>no</td>\n",
       "      <td>0</td>\n",
       "      <td>299.4</td>\n",
       "      <td>71</td>\n",
       "      <td>50.90</td>\n",
       "      <td>...</td>\n",
       "      <td>88</td>\n",
       "      <td>5.26</td>\n",
       "      <td>196.9</td>\n",
       "      <td>89</td>\n",
       "      <td>8.86</td>\n",
       "      <td>6.6</td>\n",
       "      <td>7</td>\n",
       "      <td>1.78</td>\n",
       "      <td>2</td>\n",
       "      <td>False</td>\n",
       "    </tr>\n",
       "    <tr>\n",
       "      <th>4</th>\n",
       "      <td>OK</td>\n",
       "      <td>75</td>\n",
       "      <td>415</td>\n",
       "      <td>330-6626</td>\n",
       "      <td>yes</td>\n",
       "      <td>no</td>\n",
       "      <td>0</td>\n",
       "      <td>166.7</td>\n",
       "      <td>113</td>\n",
       "      <td>28.34</td>\n",
       "      <td>...</td>\n",
       "      <td>122</td>\n",
       "      <td>12.61</td>\n",
       "      <td>186.9</td>\n",
       "      <td>121</td>\n",
       "      <td>8.41</td>\n",
       "      <td>10.1</td>\n",
       "      <td>3</td>\n",
       "      <td>2.73</td>\n",
       "      <td>3</td>\n",
       "      <td>False</td>\n",
       "    </tr>\n",
       "  </tbody>\n",
       "</table>\n",
       "<p>5 rows × 21 columns</p>\n",
       "</div>"
      ],
      "text/plain": [
       "  state  account length  area code phone number international plan  \\\n",
       "0    KS             128        415     382-4657                 no   \n",
       "1    OH             107        415     371-7191                 no   \n",
       "2    NJ             137        415     358-1921                 no   \n",
       "3    OH              84        408     375-9999                yes   \n",
       "4    OK              75        415     330-6626                yes   \n",
       "\n",
       "  voice mail plan  number vmail messages  total day minutes  total day calls  \\\n",
       "0             yes                     25              265.1              110   \n",
       "1             yes                     26              161.6              123   \n",
       "2              no                      0              243.4              114   \n",
       "3              no                      0              299.4               71   \n",
       "4              no                      0              166.7              113   \n",
       "\n",
       "   total day charge  ...  total eve calls  total eve charge  \\\n",
       "0             45.07  ...               99             16.78   \n",
       "1             27.47  ...              103             16.62   \n",
       "2             41.38  ...              110             10.30   \n",
       "3             50.90  ...               88              5.26   \n",
       "4             28.34  ...              122             12.61   \n",
       "\n",
       "   total night minutes  total night calls  total night charge  \\\n",
       "0                244.7                 91               11.01   \n",
       "1                254.4                103               11.45   \n",
       "2                162.6                104                7.32   \n",
       "3                196.9                 89                8.86   \n",
       "4                186.9                121                8.41   \n",
       "\n",
       "   total intl minutes  total intl calls  total intl charge  \\\n",
       "0                10.0                 3               2.70   \n",
       "1                13.7                 3               3.70   \n",
       "2                12.2                 5               3.29   \n",
       "3                 6.6                 7               1.78   \n",
       "4                10.1                 3               2.73   \n",
       "\n",
       "   customer service calls  churn  \n",
       "0                       1  False  \n",
       "1                       1  False  \n",
       "2                       0  False  \n",
       "3                       2  False  \n",
       "4                       3  False  \n",
       "\n",
       "[5 rows x 21 columns]"
      ]
     },
     "execution_count": 2,
     "metadata": {},
     "output_type": "execute_result"
    }
   ],
   "source": [
    "#load data\n",
    "df = pd.read_csv('SyriaTeldata.csv')\n",
    "df.head()"
   ]
  },
  {
   "cell_type": "code",
   "execution_count": 3,
   "id": "51620651",
   "metadata": {},
   "outputs": [
    {
     "data": {
      "text/html": [
       "<div>\n",
       "<style scoped>\n",
       "    .dataframe tbody tr th:only-of-type {\n",
       "        vertical-align: middle;\n",
       "    }\n",
       "\n",
       "    .dataframe tbody tr th {\n",
       "        vertical-align: top;\n",
       "    }\n",
       "\n",
       "    .dataframe thead th {\n",
       "        text-align: right;\n",
       "    }\n",
       "</style>\n",
       "<table border=\"1\" class=\"dataframe\">\n",
       "  <thead>\n",
       "    <tr style=\"text-align: right;\">\n",
       "      <th></th>\n",
       "      <th>account length</th>\n",
       "      <th>area code</th>\n",
       "      <th>number vmail messages</th>\n",
       "      <th>total day minutes</th>\n",
       "      <th>total day calls</th>\n",
       "      <th>total day charge</th>\n",
       "      <th>total eve minutes</th>\n",
       "      <th>total eve calls</th>\n",
       "      <th>total eve charge</th>\n",
       "      <th>total night minutes</th>\n",
       "      <th>total night calls</th>\n",
       "      <th>total night charge</th>\n",
       "      <th>total intl minutes</th>\n",
       "      <th>total intl calls</th>\n",
       "      <th>total intl charge</th>\n",
       "      <th>customer service calls</th>\n",
       "    </tr>\n",
       "  </thead>\n",
       "  <tbody>\n",
       "    <tr>\n",
       "      <th>count</th>\n",
       "      <td>3333.000000</td>\n",
       "      <td>3333.000000</td>\n",
       "      <td>3333.000000</td>\n",
       "      <td>3333.000000</td>\n",
       "      <td>3333.000000</td>\n",
       "      <td>3333.000000</td>\n",
       "      <td>3333.000000</td>\n",
       "      <td>3333.000000</td>\n",
       "      <td>3333.000000</td>\n",
       "      <td>3333.000000</td>\n",
       "      <td>3333.000000</td>\n",
       "      <td>3333.000000</td>\n",
       "      <td>3333.000000</td>\n",
       "      <td>3333.000000</td>\n",
       "      <td>3333.000000</td>\n",
       "      <td>3333.000000</td>\n",
       "    </tr>\n",
       "    <tr>\n",
       "      <th>mean</th>\n",
       "      <td>101.064806</td>\n",
       "      <td>437.182418</td>\n",
       "      <td>8.099010</td>\n",
       "      <td>179.775098</td>\n",
       "      <td>100.435644</td>\n",
       "      <td>30.562307</td>\n",
       "      <td>200.980348</td>\n",
       "      <td>100.114311</td>\n",
       "      <td>17.083540</td>\n",
       "      <td>200.872037</td>\n",
       "      <td>100.107711</td>\n",
       "      <td>9.039325</td>\n",
       "      <td>10.237294</td>\n",
       "      <td>4.479448</td>\n",
       "      <td>2.764581</td>\n",
       "      <td>1.562856</td>\n",
       "    </tr>\n",
       "    <tr>\n",
       "      <th>std</th>\n",
       "      <td>39.822106</td>\n",
       "      <td>42.371290</td>\n",
       "      <td>13.688365</td>\n",
       "      <td>54.467389</td>\n",
       "      <td>20.069084</td>\n",
       "      <td>9.259435</td>\n",
       "      <td>50.713844</td>\n",
       "      <td>19.922625</td>\n",
       "      <td>4.310668</td>\n",
       "      <td>50.573847</td>\n",
       "      <td>19.568609</td>\n",
       "      <td>2.275873</td>\n",
       "      <td>2.791840</td>\n",
       "      <td>2.461214</td>\n",
       "      <td>0.753773</td>\n",
       "      <td>1.315491</td>\n",
       "    </tr>\n",
       "    <tr>\n",
       "      <th>min</th>\n",
       "      <td>1.000000</td>\n",
       "      <td>408.000000</td>\n",
       "      <td>0.000000</td>\n",
       "      <td>0.000000</td>\n",
       "      <td>0.000000</td>\n",
       "      <td>0.000000</td>\n",
       "      <td>0.000000</td>\n",
       "      <td>0.000000</td>\n",
       "      <td>0.000000</td>\n",
       "      <td>23.200000</td>\n",
       "      <td>33.000000</td>\n",
       "      <td>1.040000</td>\n",
       "      <td>0.000000</td>\n",
       "      <td>0.000000</td>\n",
       "      <td>0.000000</td>\n",
       "      <td>0.000000</td>\n",
       "    </tr>\n",
       "    <tr>\n",
       "      <th>25%</th>\n",
       "      <td>74.000000</td>\n",
       "      <td>408.000000</td>\n",
       "      <td>0.000000</td>\n",
       "      <td>143.700000</td>\n",
       "      <td>87.000000</td>\n",
       "      <td>24.430000</td>\n",
       "      <td>166.600000</td>\n",
       "      <td>87.000000</td>\n",
       "      <td>14.160000</td>\n",
       "      <td>167.000000</td>\n",
       "      <td>87.000000</td>\n",
       "      <td>7.520000</td>\n",
       "      <td>8.500000</td>\n",
       "      <td>3.000000</td>\n",
       "      <td>2.300000</td>\n",
       "      <td>1.000000</td>\n",
       "    </tr>\n",
       "    <tr>\n",
       "      <th>50%</th>\n",
       "      <td>101.000000</td>\n",
       "      <td>415.000000</td>\n",
       "      <td>0.000000</td>\n",
       "      <td>179.400000</td>\n",
       "      <td>101.000000</td>\n",
       "      <td>30.500000</td>\n",
       "      <td>201.400000</td>\n",
       "      <td>100.000000</td>\n",
       "      <td>17.120000</td>\n",
       "      <td>201.200000</td>\n",
       "      <td>100.000000</td>\n",
       "      <td>9.050000</td>\n",
       "      <td>10.300000</td>\n",
       "      <td>4.000000</td>\n",
       "      <td>2.780000</td>\n",
       "      <td>1.000000</td>\n",
       "    </tr>\n",
       "    <tr>\n",
       "      <th>75%</th>\n",
       "      <td>127.000000</td>\n",
       "      <td>510.000000</td>\n",
       "      <td>20.000000</td>\n",
       "      <td>216.400000</td>\n",
       "      <td>114.000000</td>\n",
       "      <td>36.790000</td>\n",
       "      <td>235.300000</td>\n",
       "      <td>114.000000</td>\n",
       "      <td>20.000000</td>\n",
       "      <td>235.300000</td>\n",
       "      <td>113.000000</td>\n",
       "      <td>10.590000</td>\n",
       "      <td>12.100000</td>\n",
       "      <td>6.000000</td>\n",
       "      <td>3.270000</td>\n",
       "      <td>2.000000</td>\n",
       "    </tr>\n",
       "    <tr>\n",
       "      <th>max</th>\n",
       "      <td>243.000000</td>\n",
       "      <td>510.000000</td>\n",
       "      <td>51.000000</td>\n",
       "      <td>350.800000</td>\n",
       "      <td>165.000000</td>\n",
       "      <td>59.640000</td>\n",
       "      <td>363.700000</td>\n",
       "      <td>170.000000</td>\n",
       "      <td>30.910000</td>\n",
       "      <td>395.000000</td>\n",
       "      <td>175.000000</td>\n",
       "      <td>17.770000</td>\n",
       "      <td>20.000000</td>\n",
       "      <td>20.000000</td>\n",
       "      <td>5.400000</td>\n",
       "      <td>9.000000</td>\n",
       "    </tr>\n",
       "  </tbody>\n",
       "</table>\n",
       "</div>"
      ],
      "text/plain": [
       "       account length    area code  number vmail messages  total day minutes  \\\n",
       "count     3333.000000  3333.000000            3333.000000        3333.000000   \n",
       "mean       101.064806   437.182418               8.099010         179.775098   \n",
       "std         39.822106    42.371290              13.688365          54.467389   \n",
       "min          1.000000   408.000000               0.000000           0.000000   \n",
       "25%         74.000000   408.000000               0.000000         143.700000   \n",
       "50%        101.000000   415.000000               0.000000         179.400000   \n",
       "75%        127.000000   510.000000              20.000000         216.400000   \n",
       "max        243.000000   510.000000              51.000000         350.800000   \n",
       "\n",
       "       total day calls  total day charge  total eve minutes  total eve calls  \\\n",
       "count      3333.000000       3333.000000        3333.000000      3333.000000   \n",
       "mean        100.435644         30.562307         200.980348       100.114311   \n",
       "std          20.069084          9.259435          50.713844        19.922625   \n",
       "min           0.000000          0.000000           0.000000         0.000000   \n",
       "25%          87.000000         24.430000         166.600000        87.000000   \n",
       "50%         101.000000         30.500000         201.400000       100.000000   \n",
       "75%         114.000000         36.790000         235.300000       114.000000   \n",
       "max         165.000000         59.640000         363.700000       170.000000   \n",
       "\n",
       "       total eve charge  total night minutes  total night calls  \\\n",
       "count       3333.000000          3333.000000        3333.000000   \n",
       "mean          17.083540           200.872037         100.107711   \n",
       "std            4.310668            50.573847          19.568609   \n",
       "min            0.000000            23.200000          33.000000   \n",
       "25%           14.160000           167.000000          87.000000   \n",
       "50%           17.120000           201.200000         100.000000   \n",
       "75%           20.000000           235.300000         113.000000   \n",
       "max           30.910000           395.000000         175.000000   \n",
       "\n",
       "       total night charge  total intl minutes  total intl calls  \\\n",
       "count         3333.000000         3333.000000       3333.000000   \n",
       "mean             9.039325           10.237294          4.479448   \n",
       "std              2.275873            2.791840          2.461214   \n",
       "min              1.040000            0.000000          0.000000   \n",
       "25%              7.520000            8.500000          3.000000   \n",
       "50%              9.050000           10.300000          4.000000   \n",
       "75%             10.590000           12.100000          6.000000   \n",
       "max             17.770000           20.000000         20.000000   \n",
       "\n",
       "       total intl charge  customer service calls  \n",
       "count        3333.000000             3333.000000  \n",
       "mean            2.764581                1.562856  \n",
       "std             0.753773                1.315491  \n",
       "min             0.000000                0.000000  \n",
       "25%             2.300000                1.000000  \n",
       "50%             2.780000                1.000000  \n",
       "75%             3.270000                2.000000  \n",
       "max             5.400000                9.000000  "
      ]
     },
     "execution_count": 3,
     "metadata": {},
     "output_type": "execute_result"
    }
   ],
   "source": [
    "#inspect data\n",
    "df.describe()"
   ]
  },
  {
   "cell_type": "code",
   "execution_count": 4,
   "id": "8fffa34d",
   "metadata": {},
   "outputs": [
    {
     "data": {
      "text/plain": [
       "Index(['state', 'account length', 'area code', 'phone number',\n",
       "       'international plan', 'voice mail plan', 'number vmail messages',\n",
       "       'total day minutes', 'total day calls', 'total day charge',\n",
       "       'total eve minutes', 'total eve calls', 'total eve charge',\n",
       "       'total night minutes', 'total night calls', 'total night charge',\n",
       "       'total intl minutes', 'total intl calls', 'total intl charge',\n",
       "       'customer service calls', 'churn'],\n",
       "      dtype='object')"
      ]
     },
     "execution_count": 4,
     "metadata": {},
     "output_type": "execute_result"
    }
   ],
   "source": [
    "#inspect columns\n",
    "df.columns"
   ]
  },
  {
   "cell_type": "code",
   "execution_count": 5,
   "id": "d352004e",
   "metadata": {},
   "outputs": [
    {
     "data": {
      "text/plain": [
       "<bound method DataFrame.value_counts of      state  account length  area code phone number international plan  \\\n",
       "0       KS             128        415     382-4657                 no   \n",
       "1       OH             107        415     371-7191                 no   \n",
       "2       NJ             137        415     358-1921                 no   \n",
       "3       OH              84        408     375-9999                yes   \n",
       "4       OK              75        415     330-6626                yes   \n",
       "...    ...             ...        ...          ...                ...   \n",
       "3328    AZ             192        415     414-4276                 no   \n",
       "3329    WV              68        415     370-3271                 no   \n",
       "3330    RI              28        510     328-8230                 no   \n",
       "3331    CT             184        510     364-6381                yes   \n",
       "3332    TN              74        415     400-4344                 no   \n",
       "\n",
       "     voice mail plan  number vmail messages  total day minutes  \\\n",
       "0                yes                     25              265.1   \n",
       "1                yes                     26              161.6   \n",
       "2                 no                      0              243.4   \n",
       "3                 no                      0              299.4   \n",
       "4                 no                      0              166.7   \n",
       "...              ...                    ...                ...   \n",
       "3328             yes                     36              156.2   \n",
       "3329              no                      0              231.1   \n",
       "3330              no                      0              180.8   \n",
       "3331              no                      0              213.8   \n",
       "3332             yes                     25              234.4   \n",
       "\n",
       "      total day calls  total day charge  ...  total eve calls  \\\n",
       "0                 110             45.07  ...               99   \n",
       "1                 123             27.47  ...              103   \n",
       "2                 114             41.38  ...              110   \n",
       "3                  71             50.90  ...               88   \n",
       "4                 113             28.34  ...              122   \n",
       "...               ...               ...  ...              ...   \n",
       "3328               77             26.55  ...              126   \n",
       "3329               57             39.29  ...               55   \n",
       "3330              109             30.74  ...               58   \n",
       "3331              105             36.35  ...               84   \n",
       "3332              113             39.85  ...               82   \n",
       "\n",
       "      total eve charge  total night minutes  total night calls  \\\n",
       "0                16.78                244.7                 91   \n",
       "1                16.62                254.4                103   \n",
       "2                10.30                162.6                104   \n",
       "3                 5.26                196.9                 89   \n",
       "4                12.61                186.9                121   \n",
       "...                ...                  ...                ...   \n",
       "3328             18.32                279.1                 83   \n",
       "3329             13.04                191.3                123   \n",
       "3330             24.55                191.9                 91   \n",
       "3331             13.57                139.2                137   \n",
       "3332             22.60                241.4                 77   \n",
       "\n",
       "      total night charge  total intl minutes  total intl calls  \\\n",
       "0                  11.01                10.0                 3   \n",
       "1                  11.45                13.7                 3   \n",
       "2                   7.32                12.2                 5   \n",
       "3                   8.86                 6.6                 7   \n",
       "4                   8.41                10.1                 3   \n",
       "...                  ...                 ...               ...   \n",
       "3328               12.56                 9.9                 6   \n",
       "3329                8.61                 9.6                 4   \n",
       "3330                8.64                14.1                 6   \n",
       "3331                6.26                 5.0                10   \n",
       "3332               10.86                13.7                 4   \n",
       "\n",
       "      total intl charge  customer service calls  churn  \n",
       "0                  2.70                       1  False  \n",
       "1                  3.70                       1  False  \n",
       "2                  3.29                       0  False  \n",
       "3                  1.78                       2  False  \n",
       "4                  2.73                       3  False  \n",
       "...                 ...                     ...    ...  \n",
       "3328               2.67                       2  False  \n",
       "3329               2.59                       3  False  \n",
       "3330               3.81                       2  False  \n",
       "3331               1.35                       2  False  \n",
       "3332               3.70                       0  False  \n",
       "\n",
       "[3333 rows x 21 columns]>"
      ]
     },
     "execution_count": 5,
     "metadata": {},
     "output_type": "execute_result"
    }
   ],
   "source": [
    "df.value_counts"
   ]
  },
  {
   "cell_type": "code",
   "execution_count": 6,
   "id": "16543bad",
   "metadata": {},
   "outputs": [
    {
     "data": {
      "image/png": "[encoded data removed]",
      "text/plain": [
       "<Figure size 1440x1440 with 2 Axes>"
      ]
     },
     "metadata": {
      "needs_background": "light"
     },
     "output_type": "display_data"
    }
   ],
   "source": [
    "#create a heatmap to inspect correlation between attributes\n",
    "corr_mat = df[[\"account length\", 'total day minutes', 'total day calls', 'total day charge',\n",
    "       'total eve minutes', 'total eve calls', 'total eve charge',\n",
    "       'total night minutes', 'total night calls', 'total night charge',\n",
    "       'total intl minutes', 'total intl calls', 'total intl charge',\n",
    "       'customer service calls', 'churn']].corr()\n",
    "fig, ax = plt.subplots(figsize=(20, 20))\n",
    "# plot it\n",
    "sns.heatmap(corr_mat, annot = True)\n",
    "ax.set_title(\"Heatmap of Correlation Between Attributes (Including Target)\");"
   ]
  },
  {
   "cell_type": "code",
   "execution_count": 7,
   "id": "8eb2832d",
   "metadata": {},
   "outputs": [
    {
     "data": {
      "text/plain": [
       "False"
      ]
     },
     "execution_count": 7,
     "metadata": {},
     "output_type": "execute_result"
    }
   ],
   "source": [
    "#investigate any null values\n",
    "df.isnull().values.any()"
   ]
  },
  {
   "cell_type": "code",
   "execution_count": 8,
   "id": "b1dece28",
   "metadata": {},
   "outputs": [],
   "source": [
    "# drop unnecessary columns- not valuable for business question\n",
    "df.drop(columns = ['phone number', 'area code', 'state'], axis = 1, inplace = True)"
   ]
  },
  {
   "cell_type": "code",
   "execution_count": 9,
   "id": "77cdd5e5",
   "metadata": {},
   "outputs": [],
   "source": [
    "#one hot encoding of international plan from 'yes' and 'no' to binary\n",
    "df['international plan'].replace(('yes', 'no'), (1,0), inplace=True)"
   ]
  },
  {
   "cell_type": "code",
   "execution_count": 10,
   "id": "c4b670da",
   "metadata": {},
   "outputs": [
    {
     "data": {
      "text/plain": [
       "0       0\n",
       "1       0\n",
       "2       0\n",
       "3       1\n",
       "4       1\n",
       "       ..\n",
       "3328    0\n",
       "3329    0\n",
       "3330    0\n",
       "3331    1\n",
       "3332    0\n",
       "Name: international plan, Length: 3333, dtype: int64"
      ]
     },
     "execution_count": 10,
     "metadata": {},
     "output_type": "execute_result"
    }
   ],
   "source": [
    "#check that international plan column is now binary\n",
    "df['international plan']"
   ]
  },
  {
   "cell_type": "code",
   "execution_count": 11,
   "id": "cfa9966a",
   "metadata": {},
   "outputs": [],
   "source": [
    "#one hot encoding of voice mail plan from 'yes' and 'no' to binary\n",
    "df['voice mail plan'].replace(('yes', 'no'), (1,0), inplace=True)"
   ]
  },
  {
   "cell_type": "code",
   "execution_count": 12,
   "id": "0af0aeb8",
   "metadata": {},
   "outputs": [],
   "source": [
    "#create variable of column 'churn' from the data for readibility\n",
    "churn = df['churn']"
   ]
  },
  {
   "cell_type": "code",
   "execution_count": 13,
   "id": "a94ddf94",
   "metadata": {},
   "outputs": [
    {
     "data": {
      "text/plain": [
       "0     False\n",
       "1     False\n",
       "2     False\n",
       "3     False\n",
       "4     False\n",
       "      ...  \n",
       "95    False\n",
       "96    False\n",
       "97    False\n",
       "98     True\n",
       "99     True\n",
       "Name: churn, Length: 100, dtype: bool"
      ]
     },
     "execution_count": 13,
     "metadata": {},
     "output_type": "execute_result"
    }
   ],
   "source": [
    "#inspect the churn variable for length and dtype\n",
    "churn.head(100)"
   ]
  },
  {
   "cell_type": "code",
   "execution_count": 14,
   "id": "ab6cf276",
   "metadata": {},
   "outputs": [
    {
     "data": {
      "text/plain": [
       "False    2850\n",
       "True      483\n",
       "Name: churn, dtype: int64"
      ]
     },
     "execution_count": 14,
     "metadata": {},
     "output_type": "execute_result"
    }
   ],
   "source": [
    "#investigate value counts of false and turn churns\n",
    "churn.value_counts()"
   ]
  },
  {
   "cell_type": "code",
   "execution_count": 15,
   "id": "73384698",
   "metadata": {},
   "outputs": [
    {
     "data": {
      "image/png": "[encoded data removed]",
      "text/plain": [
       "<Figure size 432x288 with 1 Axes>"
      ]
     },
     "metadata": {
      "needs_background": "light"
     },
     "output_type": "display_data"
    }
   ],
   "source": [
    "#visulize value counts of churned\n",
    "fig , ax = plt.subplots(figsize=(6,4))\n",
    "sns.countplot(x='churn', data=df)\n",
    "plt.title(\"Number of Churned\")\n",
    "plt.show()\n"
   ]
  },
  {
   "cell_type": "code",
   "execution_count": 16,
   "id": "781f6c83",
   "metadata": {},
   "outputs": [
    {
     "name": "stdout",
     "output_type": "stream",
     "text": [
      "% of people who did churn from dataset:  14.491449144914492\n",
      "% of people who did not churn from dataset:  85.5085508550855\n"
     ]
    }
   ],
   "source": [
    "#investigate the percentage of people who churned and did not churn\n",
    "n=len(df)\n",
    "surv_0=len(df[df['churn']==0])\n",
    "surv_1=len(df[df['churn']==1])\n",
    "\n",
    "print(\"% of people who did churn from dataset: \",surv_1*100/n)\n",
    "print(\"% of people who did not churn from dataset: \",surv_0*100/n)"
   ]
  },
  {
   "cell_type": "code",
   "execution_count": 17,
   "id": "33cbb5aa",
   "metadata": {},
   "outputs": [
    {
     "data": {
      "image/png": "[encoded data removed]",
      "text/plain": [
       "<Figure size 432x288 with 20 Axes>"
      ]
     },
     "metadata": {
      "needs_background": "light"
     },
     "output_type": "display_data"
    }
   ],
   "source": [
    "df.hist()\n",
    "plt.show()"
   ]
  },
  {
   "cell_type": "code",
   "execution_count": 18,
   "id": "fd4e5932",
   "metadata": {},
   "outputs": [
    {
     "data": {
      "text/plain": [
       "0       1\n",
       "1       1\n",
       "2       0\n",
       "3       0\n",
       "4       0\n",
       "       ..\n",
       "3328    1\n",
       "3329    0\n",
       "3330    0\n",
       "3331    0\n",
       "3332    1\n",
       "Name: voice mail plan, Length: 3333, dtype: int64"
      ]
     },
     "execution_count": 18,
     "metadata": {},
     "output_type": "execute_result"
    }
   ],
   "source": [
    "#check that voice mail plan is now binary\n",
    "df['voice mail plan']"
   ]
  },
  {
   "cell_type": "code",
   "execution_count": 19,
   "id": "ce0a6d11",
   "metadata": {},
   "outputs": [
    {
     "name": "stdout",
     "output_type": "stream",
     "text": [
      "count    3333.000000\n",
      "mean      179.775098\n",
      "std        54.467389\n",
      "min         0.000000\n",
      "25%       143.700000\n",
      "50%       179.400000\n",
      "75%       216.400000\n",
      "max       350.800000\n",
      "Name: total day minutes, dtype: float64\n"
     ]
    }
   ],
   "source": [
    "print(df['total day minutes'].describe())"
   ]
  },
  {
   "cell_type": "code",
   "execution_count": 20,
   "id": "883f8098",
   "metadata": {},
   "outputs": [
    {
     "data": {
      "image/png": "[encoded data removed]",
      "text/plain": [
       "<Figure size 432x288 with 1 Axes>"
      ]
     },
     "metadata": {
      "needs_background": "light"
     },
     "output_type": "display_data"
    }
   ],
   "source": [
    "fig , ax = plt.subplots(figsize=(6,4))\n",
    "plt.scatter(x='total day minutes', y = 'churn', data=df)\n",
    "plt.title(\"Number of Churned compared to Total Day Minutes\")\n",
    "plt.xlabel(\"Number of Total Minutes a Day\")\n",
    "plt.ylabel(\"Churn\")\n",
    "\n",
    "plt.show()"
   ]
  },
  {
   "cell_type": "code",
   "execution_count": 21,
   "id": "b22ee112",
   "metadata": {},
   "outputs": [
    {
     "data": {
      "image/png": "[encoded data removed]",
      "text/plain": [
       "<Figure size 432x288 with 1 Axes>"
      ]
     },
     "metadata": {
      "needs_background": "light"
     },
     "output_type": "display_data"
    }
   ],
   "source": [
    "fig , ax = plt.subplots(figsize=(6,4))\n",
    "plt.scatter(x='total night charge', y = 'churn', data=df)\n",
    "plt.title(\"Number of Churned compared to Total Night Charge\")\n",
    "plt.xlabel(\"Total Night Charge\")\n",
    "plt.ylabel(\"Churn\")\n",
    "\n",
    "plt.show()"
   ]
  },
  {
   "cell_type": "markdown",
   "id": "4e7c880f",
   "metadata": {},
   "source": [
    "## Create training and test sets"
   ]
  },
  {
   "cell_type": "code",
   "execution_count": 22,
   "id": "17dedcd6",
   "metadata": {},
   "outputs": [],
   "source": [
    "#create training sets to start modeling and prediction upon the data\n",
    "y = churn.astype(int)\n",
    "X = df.drop(columns=['churn'], axis=1)\n",
    "X_train, X_test, y_train, y_test = train_test_split(\n",
    "    X, y, test_size=0.25, random_state=42)"
   ]
  },
  {
   "cell_type": "code",
   "execution_count": 23,
   "id": "d5e1dea7",
   "metadata": {},
   "outputs": [],
   "source": [
    "#Normalize the data to prevent leakage\n",
    "ss = StandardScaler()\n",
    "X_train_ss = ss.fit_transform(X_train)\n",
    "\n",
    "X_test_ss = ss.transform(X_test)"
   ]
  },
  {
   "cell_type": "markdown",
   "id": "43a0d0f7",
   "metadata": {},
   "source": [
    "## Instantiating Models"
   ]
  },
  {
   "cell_type": "code",
   "execution_count": 24,
   "id": "a72ba453",
   "metadata": {},
   "outputs": [],
   "source": [
    "#instantiating models within a dictionary\n",
    "models = {}\n",
    "\n",
    "# Logistic Regression\n",
    "models['Logistic Regression'] = LogisticRegression()\n",
    "\n",
    "# Support Vector Machines\n",
    "models['Support Vector Machines'] = LinearSVC()\n",
    "\n",
    "# Decision Trees\n",
    "models['Decision Trees'] = DecisionTreeClassifier()\n",
    "\n",
    "# Random Forest\n",
    "models['Random Forest'] = RandomForestClassifier()\n",
    "\n",
    "# Naive Bayes\n",
    "models['Naive Bayes'] = GaussianNB()\n",
    "\n",
    "# K-Nearest Neighbors\n",
    "models['K-Nearest Neighbor'] = KNeighborsClassifier()"
   ]
  },
  {
   "cell_type": "code",
   "execution_count": 162,
   "id": "465d84ea",
   "metadata": {},
   "outputs": [],
   "source": [
    "#looking for accuracy, precision and recall scores within the models\n",
    "accuracy, precision, recall = {}, {}, {}\n",
    "\n",
    "for key in models.keys():\n",
    "    \n",
    "    # Fit the classifier\n",
    "    models[key].fit(X_train_ss, y_train)\n",
    "    \n",
    "    # Make predictions\n",
    "    predictions = models[key].predict(X_test_ss)\n",
    "    \n",
    "    # Calculate metrics\n",
    "    accuracy[key] = accuracy_score(predictions, y_test)\n",
    "    precision[key] = precision_score(predictions, y_test)\n",
    "    recall[key] = recall_score(predictions, y_test)"
   ]
  },
  {
   "cell_type": "code",
   "execution_count": 163,
   "id": "6c4c3634",
   "metadata": {},
   "outputs": [
    {
     "name": "stdout",
     "output_type": "stream",
     "text": [
      "+-------------------------+------------+-------------+----------+\n",
      "|                         |   Accuracy |   Precision |   Recall |\n",
      "+=========================+============+=============+==========+\n",
      "| Logistic Regression     |   0.858513 |       0.192 | 0.585366 |\n",
      "+-------------------------+------------+-------------+----------+\n",
      "| Support Vector Machines |   0.856115 |       0.128 | 0.592593 |\n",
      "+-------------------------+------------+-------------+----------+\n",
      "| Decision Trees          |   0.907674 |       0.736 | 0.676471 |\n",
      "+-------------------------+------------+-------------+----------+\n",
      "| Random Forest           |   0.948441 |       0.688 | 0.955556 |\n",
      "+-------------------------+------------+-------------+----------+\n",
      "| Naive Bayes             |   0.851319 |       0.464 | 0.504348 |\n",
      "+-------------------------+------------+-------------+----------+\n",
      "| K-Nearest Neighbor      |   0.890887 |       0.368 | 0.793103 |\n",
      "+-------------------------+------------+-------------+----------+\n"
     ]
    },
    {
     "data": {
      "text/plain": [
       "<Figure size 432x288 with 0 Axes>"
      ]
     },
     "metadata": {},
     "output_type": "display_data"
    }
   ],
   "source": [
    "#printing out accuracy, precision, and recall scores from each of those models\n",
    "\n",
    "df_model = pd.DataFrame(index=models.keys(), columns=['Accuracy', 'Precision', 'Recall'])\n",
    "df_model['Accuracy'] = accuracy.values()\n",
    "df_model['Precision'] = precision.values()\n",
    "df_model['Recall'] = recall.values()\n",
    "columns=['Accuracy', 'Precision', 'Recall']\n",
    "\n",
    "\n",
    "modeltable = (tabulate(df_model, headers = columns, tablefmt=\"grid\"))\n",
    "print(modeltable)\n",
    "\n",
    "plt.savefig('modeltable.png')\n",
    "dfi.export(df_model, \"modeltable.png\")"
   ]
  },
  {
   "cell_type": "markdown",
   "id": "926a065f",
   "metadata": {},
   "source": [
    "![](modeltable.png)"
   ]
  },
  {
   "cell_type": "code",
   "execution_count": 27,
   "id": "1fcc2492",
   "metadata": {},
   "outputs": [
    {
     "data": {
      "image/png": "[encoded data removed]",
      "text/plain": [
       "<Figure size 432x288 with 1 Axes>"
      ]
     },
     "metadata": {
      "needs_background": "light"
     },
     "output_type": "display_data"
    }
   ],
   "source": [
    "#Plotting the accuracy, precision and recall scores of the models\n",
    "ax = df_model.plot.barh(title = 'Model Scores')\n",
    "ax.legend(\n",
    "    ncol=len(models.keys()), \n",
    "    bbox_to_anchor=(0, 1), \n",
    "    loc='right',\n",
    "    prop={'size': 9},\n",
    "    \n",
    "\n",
    "    \n",
    ")\n",
    "ax.set_xlabel('Model Performance', fontsize=10)\n",
    "ax.set_ylabel('Models', fontsize='medium')\n",
    "plt.tight_layout()"
   ]
  },
  {
   "cell_type": "code",
   "execution_count": null,
   "id": "0b808aac",
   "metadata": {},
   "outputs": [],
   "source": []
  },
  {
   "cell_type": "markdown",
   "id": "57584f70",
   "metadata": {},
   "source": [
    "## Logistic Regression"
   ]
  },
  {
   "cell_type": "code",
   "execution_count": 28,
   "id": "1e736778",
   "metadata": {},
   "outputs": [
    {
     "name": "stdout",
     "output_type": "stream",
     "text": [
      "              precision    recall  f1-score   support\n",
      "\n",
      "           0       0.87      0.98      0.92       709\n",
      "           1       0.59      0.19      0.29       125\n",
      "\n",
      "    accuracy                           0.86       834\n",
      "   macro avg       0.73      0.58      0.61       834\n",
      "weighted avg       0.83      0.86      0.83       834\n",
      "\n",
      "Accuracy Score : 0.8585131894484412\n",
      "Precision Score : 0.5853658536585366\n",
      "Recall Score : 0.192\n",
      "F1 Score : 0.2891566265060241\n",
      "Confusion Matrix : \n",
      "[[692  17]\n",
      " [101  24]]\n"
     ]
    }
   ],
   "source": [
    "#Print the classification report for a basic logistic regression model\n",
    "logreg = LogisticRegression(random_state=42)\n",
    "logreg.fit(X_train_ss, y_train)\n",
    "\n",
    "y_pred = logreg.predict(X_test_ss)\n",
    "print(classification_report(y_test, y_pred))\n",
    "print('Accuracy Score : ' + str(accuracy_score(y_test,y_pred)))\n",
    "print('Precision Score : ' + str(precision_score(y_test,y_pred)))\n",
    "print('Recall Score : ' + str(recall_score(y_test,y_pred)))\n",
    "print('F1 Score : ' + str(f1_score(y_test,y_pred)))\n",
    "\n",
    "#Dummy Classifier Confusion matrix\n",
    "print('Confusion Matrix : \\n' + str(confusion_matrix(y_test,y_pred)))"
   ]
  },
  {
   "cell_type": "code",
   "execution_count": 29,
   "id": "d8832f44",
   "metadata": {},
   "outputs": [
    {
     "data": {
      "image/png": "[encoded data removed]",
      "text/plain": [
       "<Figure size 1512x504 with 3 Axes>"
      ]
     },
     "metadata": {
      "needs_background": "light"
     },
     "output_type": "display_data"
    }
   ],
   "source": [
    "#create confusion matrix heatmap\n",
    "fig, [ax1, ax2, ax3] = plt.subplots(1, 3, figsize=(21, 7))\n",
    "cm = confusion_matrix(y_test, y_pred)\n",
    "sns.heatmap(cm, annot = True, cbar = False, fmt = \"d\", linewidths = .5, cmap = \"Blues\", ax = ax1)\n",
    "ax1.set_title(\"Confusion Matrix\")\n",
    "ax1.set_xlabel(\"Predicted class\")\n",
    "ax1.set_ylabel(\"Actual class\")\n",
    "fig.tight_layout()\n",
    "\n",
    "\n",
    "plt.show()\n",
    "\n"
   ]
  },
  {
   "cell_type": "code",
   "execution_count": 30,
   "id": "45af1423",
   "metadata": {},
   "outputs": [
    {
     "data": {
      "image/png": "[encoded data removed]",
      "text/plain": [
       "<Figure size 432x288 with 1 Axes>"
      ]
     },
     "metadata": {
      "needs_background": "light"
     },
     "output_type": "display_data"
    }
   ],
   "source": [
    "# ROC is a coomon tool for binary classifiers and we would want the the dotted line that represents the ROC curve of a purely random classifier to stay as far away from that line as possible. This doesn't happen here. \n",
    "logit_roc_auc = roc_auc_score(y_test, logreg.predict(X_test_ss))\n",
    "fpr, tpr, thresholds = roc_curve(y_test, logreg.predict_proba(X_test_ss)[:,1])\n",
    "plt.figure()\n",
    "plt.plot(fpr, tpr, label='Logistic Regression (area = %0.2f)' % logit_roc_auc)\n",
    "plt.plot([0, 1], [0, 1],'r--')\n",
    "plt.xlim([0.0, 1.0])\n",
    "plt.ylim([0.0, 1.05])\n",
    "plt.xlabel('False Positive Rate')\n",
    "plt.ylabel('True Positive Rate')\n",
    "plt.title('Receiver operating characteristic')\n",
    "plt.legend(loc=\"lower right\")\n",
    "plt.savefig('Log_ROC')\n",
    "plt.show()"
   ]
  },
  {
   "cell_type": "code",
   "execution_count": 31,
   "id": "b2c09db8",
   "metadata": {},
   "outputs": [
    {
     "name": "stdout",
     "output_type": "stream",
     "text": [
      "Fitting 10 folds for each of 30 candidates, totalling 300 fits\n",
      "LogisticRegression(class_weight='balanced', max_iter=20, random_state=1234,\n",
      "                   solver='newton-cg')\n",
      "[0 0 0 0 0 0 0 0 1 0 0 0 0 1 1 1 0 1 1 0 0 0 0 0 0 0 0 0 1 0 0 0 0 0 0 0 0\n",
      " 0 0 1 0 1 1 1 0 0 1 1 0 0 0 1 0 0 0 0 0 0 0 0 1 0 0 0 1 1 0 0 1 0 1 0 0 1\n",
      " 0 0 0 1 0 0 0 1 1 0 0 0 0 0 0 1 0 0 1 0 1 1 1 0 0 0 1 0 0 1 0 0 0 0 0 0 0\n",
      " 0 1 1 0 1 1 0 0 1 0 0 0 0 1 1 1 1 0 0 0 0 0 0 0 0 0 0 0 0 0 0 1 1 0 1 0 0\n",
      " 1 0 0 1 0 0 1 1 0 1 0 0 0 0 0 1 0 0 0 1 1 1 0 0 0 1 0 0 0 1 1 1 1 0 0 0 0\n",
      " 0 0 1 1 0 0 1 0 1 0 0 0 1 0 0 1 0 1 0 0 0 0 0 0 1 0 0 0 0 1 1 0 0 1 0 0 0\n",
      " 1 1 0 0 0 0 0 1 0 0 0 0 0 1 1 1 0 0 0 0 1 0 0 0 0 0 0 0 1 1 0 1 1 0 1 0 1\n",
      " 0 0 0 0 1 1 0 0 0 1 1 1 1 1 0 1 1 1 0 1 0 1 0 0 0 0 1 0 0 0 0 0 1 0 0 1 0\n",
      " 0 1 0 1 0 0 0 1 1 0 0 0 0 0 0 0 1 0 1 0 0 1 1 1 1 1 0 0 0 0 1 0 0 0 0 0 0\n",
      " 0 0 0 1 0 1 0 0 0 0 1 1 1 1 0 0 0 1 0 0 0 0 0 0 1 0 0 0 1 0 0 0 0 0 1 1 0\n",
      " 1 1 0 0 0 0 1 0 1 0 1 0 0 0 1 0 0 1 1 1 0 0 1 0 0 0 0 1 1 1 0 0 0 0 0 0 0\n",
      " 0 1 0 1 0 0 0 1 1 0 0 1 0 1 0 1 0 0 0 1 1 0 0 1 0 0 0 0 0 0 1 0 0 0 0 1 0\n",
      " 0 0 0 0 0 0 0 0 1 0 0 0 0 0 1 1 0 0 0 0 0 0 1 0 0 1 0 0 0 0 1 1 0 0 0 0 0\n",
      " 1 0 0 0 0 0 0 1 0 1 1 0 1 0 0 0 1 0 0 0 0 1 0 0 0 0 1 0 0 0 0 0 0 0 1 1 0\n",
      " 0 0 0 0 0 0 0 0 0 0 0 0 0 0 0 1 1 0 0 0 0 1 0 1 0 0 0 1 0 0 0 0 1 0 1 0 1\n",
      " 0 1 0 0 1 1 0 0 0 0 0 0 0 0 0 1 0 0 0 0 0 0 0 0 0 0 0 1 1 1 0 0 1 0 1 0 0\n",
      " 1 0 1 0 0 0 0 0 0 0 0 0 0 0 1 0 0 0 0 0 1 0 0 1 1 0 1 1 0 1 0 0 1 0 0 1 1\n",
      " 1 1 0 1 1 0 1 0 0 0 1 1 0 0 1 0 0 1 1 0 0 0 0 0 0 0 0 0 0 0 1 0 1 0 0 0 0\n",
      " 0 0 0 1 0 0 1 1 0 0 0 0 0 0 1 0 1 0 1 0 1 1 0 0 0 0 1 0 1 0 0 0 1 0 0 1 0\n",
      " 0 1 0 0 1 0 0 0 0 0 1 0 0 1 1 1 1 1 0 0 1 0 1 1 0 1 1 0 0 0 1 1 0 1 0 0 0\n",
      " 0 1 0 0 0 0 0 1 0 0 0 0 0 0 0 0 0 0 0 0 0 1 0 0 0 1 0 0 1 0 0 0 1 0 0 0 1\n",
      " 0 1 0 1 1 1 0 0 1 0 0 0 0 0 1 0 0 0 1 0 1 0 1 1 0 0 1 0 1 1 0 0 1 0 0 1 0\n",
      " 1 0 0 0 0 1 0 0 1 0 1 0 0 0 0 0 0 0 0 0]\n"
     ]
    }
   ],
   "source": [
    "#hypertune the model using GridSearch\n",
    "param_grid_lr = ({\"max_iter\": [20, 50, 100, 200, 500, 1000],\n",
    "                  \"solver\": [\"newton-cg\", \"lbfgs\", \"liblinear\", \"sag\", \"saga\"],\n",
    "                  \"class_weight\": [\"balanced\"]})\n",
    "logModel_grid = GridSearchCV(estimator=LogisticRegression(random_state=1234),scoring =\"accuracy\", param_grid=param_grid_lr, verbose=1, cv=10, n_jobs=-1)\n",
    "logModel_grid.fit(X_train_ss, y_train)\n",
    "print(logModel_grid.best_estimator_)\n",
    "y_pred_lr = logModel_grid.predict(X_test_ss)\n",
    "print(y_pred_lr)\n",
    "      \n",
    "best_lr = LogisticRegression(class_weight='balanced', max_iter=20, random_state=1234,\n",
    "                   solver='newton-cg')"
   ]
  },
  {
   "cell_type": "code",
   "execution_count": 32,
   "id": "1b1cd391",
   "metadata": {},
   "outputs": [
    {
     "data": {
      "text/plain": [
       "LogisticRegression(class_weight='balanced', max_iter=20, random_state=1234,\n",
       "                   solver='newton-cg')"
      ]
     },
     "execution_count": 32,
     "metadata": {},
     "output_type": "execute_result"
    }
   ],
   "source": [
    "# fitting the best parameters to new logistic regression model \n",
    "lg_model =LogisticRegression(class_weight='balanced', max_iter=20, random_state=1234,\n",
    "                   solver='newton-cg')\n",
    "lg_model.fit(X_train_ss, y_train)"
   ]
  },
  {
   "cell_type": "code",
   "execution_count": 33,
   "id": "06f5f32c",
   "metadata": {},
   "outputs": [],
   "source": [
    "y_hat_lg = lg_model.predict(X_train_ss)\n",
    "y_lg_model = lg_model.predict(X_test)"
   ]
  },
  {
   "cell_type": "code",
   "execution_count": 34,
   "id": "e8eb5ebf",
   "metadata": {},
   "outputs": [
    {
     "name": "stdout",
     "output_type": "stream",
     "text": [
      "Training set accuracy:  0.7675070028011205\n",
      "Test set accuracy:  0.1498800959232614\n"
     ]
    }
   ],
   "source": [
    "print('Training set accuracy: ', metrics.accuracy_score(y_train, y_hat_lg))\n",
    "print('Test set accuracy: ',metrics.accuracy_score(y_test, y_lg_model))"
   ]
  },
  {
   "cell_type": "code",
   "execution_count": 35,
   "id": "5a5dd083",
   "metadata": {},
   "outputs": [
    {
     "name": "stdout",
     "output_type": "stream",
     "text": [
      "[[  0 709]\n",
      " [  0 125]]\n"
     ]
    }
   ],
   "source": [
    "print(confusion_matrix(y_test, y_lg_model))"
   ]
  },
  {
   "cell_type": "code",
   "execution_count": 36,
   "id": "f3f7caf1",
   "metadata": {},
   "outputs": [
    {
     "data": {
      "image/png": "[encoded data removed]",
      "text/plain": [
       "<Figure size 1512x504 with 3 Axes>"
      ]
     },
     "metadata": {
      "needs_background": "light"
     },
     "output_type": "display_data"
    }
   ],
   "source": [
    "#Create confusion matrix heatmap with new model\n",
    "fig, [ax1, ax2, ax3] = plt.subplots(1, 3, figsize=(21, 7))\n",
    "cm = confusion_matrix(y_test, y_lg_model)\n",
    "sns.heatmap(cm, annot = True, cbar = False, fmt = \"d\", linewidths = .5, cmap = \"Blues\", ax = ax1)\n",
    "ax1.set_title(\"Confusion Matrix\")\n",
    "ax1.set_xlabel(\"Predicted class\")\n",
    "ax1.set_ylabel(\"Actual class\")\n",
    "fig.tight_layout()\n",
    "\n",
    "\n",
    "plt.show()"
   ]
  },
  {
   "cell_type": "code",
   "execution_count": 37,
   "id": "bf2fcf40",
   "metadata": {},
   "outputs": [
    {
     "name": "stdout",
     "output_type": "stream",
     "text": [
      "              precision    recall  f1-score   support\n",
      "\n",
      "           0       0.00      0.00      0.00       709\n",
      "           1       0.15      1.00      0.26       125\n",
      "\n",
      "    accuracy                           0.15       834\n",
      "   macro avg       0.07      0.50      0.13       834\n",
      "weighted avg       0.02      0.15      0.04       834\n",
      "\n"
     ]
    }
   ],
   "source": [
    "print(classification_report(y_test, y_lg_model))"
   ]
  },
  {
   "cell_type": "code",
   "execution_count": 38,
   "id": "9ce056b1",
   "metadata": {},
   "outputs": [],
   "source": [
    "#cross validate scores\n",
    "scores_lg = cross_val_score(logreg, X, y, cv =5)"
   ]
  },
  {
   "cell_type": "code",
   "execution_count": 39,
   "id": "2b8cf869",
   "metadata": {},
   "outputs": [
    {
     "name": "stdout",
     "output_type": "stream",
     "text": [
      "Model accuracy:  0.8505859682771227\n"
     ]
    }
   ],
   "source": [
    "print('Model accuracy: ',np.mean(scores_lg))"
   ]
  },
  {
   "cell_type": "markdown",
   "id": "47c95a41",
   "metadata": {},
   "source": [
    "This model has 85% accuracy"
   ]
  },
  {
   "cell_type": "code",
   "execution_count": 40,
   "id": "d099aa7b",
   "metadata": {},
   "outputs": [
    {
     "data": {
      "image/png": "[encoded data removed]",
      "text/plain": [
       "<Figure size 432x288 with 1 Axes>"
      ]
     },
     "metadata": {
      "needs_background": "light"
     },
     "output_type": "display_data"
    }
   ],
   "source": [
    "# Testing ROC on this model\n",
    "logit_roc_auc = roc_auc_score(y_pred_lr, logreg.predict(X_test_ss))\n",
    "fpr, tpr, thresholds = roc_curve(y_test, logreg.predict_proba(X_test_ss)[:,1])\n",
    "plt.figure()\n",
    "plt.plot(fpr, tpr, label='Logistic Regression (area = %0.2f)' % logit_roc_auc)\n",
    "plt.plot([0, 1], [0, 1],'r--')\n",
    "plt.xlim([0.0, 1.0])\n",
    "plt.ylim([0.0, 1.05])\n",
    "plt.xlabel('False Positive Rate')\n",
    "plt.ylabel('True Positive Rate')\n",
    "plt.title('Receiver operating characteristic')\n",
    "plt.legend(loc=\"lower right\")\n",
    "plt.savefig('Log_ROC')\n",
    "plt.show()"
   ]
  },
  {
   "cell_type": "code",
   "execution_count": 41,
   "id": "af6d9092",
   "metadata": {},
   "outputs": [
    {
     "name": "stdout",
     "output_type": "stream",
     "text": [
      "0.7793764988009593 : is the accuracy score\n",
      "0.3843137254901961 : is the precision score\n",
      "0.784 : is the recall score\n",
      "0.5157894736842106 : is the f1 score\n"
     ]
    }
   ],
   "source": [
    "# Printing the accuracy, precision, recall and f1 score of hypertuned model\n",
    "print(accuracy_score(y_test, y_pred_lr), \": is the accuracy score\")\n",
    "print(precision_score(y_test, y_pred_lr), \": is the precision score\")\n",
    "print(recall_score(y_test, y_pred_lr), \": is the recall score\")\n",
    "print(f1_score(y_test, y_pred_lr), \": is the f1 score\")"
   ]
  },
  {
   "cell_type": "markdown",
   "id": "106856e3",
   "metadata": {},
   "source": [
    "## K Nearest Neighbors"
   ]
  },
  {
   "cell_type": "code",
   "execution_count": 42,
   "id": "52a53509",
   "metadata": {},
   "outputs": [
    {
     "name": "stdout",
     "output_type": "stream",
     "text": [
      "Best leaf_size: 1\n",
      "Best p: 1\n",
      "Best n_neighbors: 5\n"
     ]
    }
   ],
   "source": [
    "#Next evaluation metris ic K nearest Neighbors\n",
    "knn = KNeighborsClassifier()\n",
    "#Training the model.\n",
    "knn.fit(X_train_ss, y_train)\n",
    "\n",
    "#List Hyperparameters that we want to tune.\n",
    "leaf_size = list(range(1,50))\n",
    "n_neighbors = list(range(1,30))\n",
    "p=[1,2]\n",
    "#Convert to dictionary\n",
    "hyperparameters = dict(leaf_size=leaf_size, n_neighbors=n_neighbors, p=p)\n",
    "#Create new KNN object\n",
    "knn_2 = KNeighborsClassifier()\n",
    "#Use GridSearch\n",
    "clf = GridSearchCV(knn_2, hyperparameters, cv=10)\n",
    "#Fit the model\n",
    "best_model = clf.fit(X_train_ss, y_train)\n",
    "#Print The value of best Hyperparameters   \n",
    "print('Best leaf_size:', best_model.best_estimator_.get_params()['leaf_size'])\n",
    "print('Best p:', best_model.best_estimator_.get_params()['p'])\n",
    "print('Best n_neighbors:', best_model.best_estimator_.get_params()['n_neighbors'])"
   ]
  },
  {
   "cell_type": "code",
   "execution_count": 43,
   "id": "c772dbab",
   "metadata": {},
   "outputs": [
    {
     "name": "stdout",
     "output_type": "stream",
     "text": [
      "Best: 0.892758 using {'metric': 'manhattan', 'n_neighbors': 5, 'weights': 'uniform'}\n"
     ]
    }
   ],
   "source": [
    "knn = KNeighborsClassifier()\n",
    "n_neighbors = range(1, 21, 2)\n",
    "weights = ['uniform', 'distance']\n",
    "metric = ['euclidean', 'manhattan', 'minkowski']\n",
    "# define grid search\n",
    "grid = dict(n_neighbors=n_neighbors,weights=weights,metric=metric)\n",
    "grid_search = GridSearchCV(estimator=knn, param_grid=grid, n_jobs=-1, scoring='accuracy',error_score=0)\n",
    "grid_result_knn = grid_search.fit(X_train_ss, y_train)\n",
    "# summarize results\n",
    "print(\"Best: %f using %s\" % (grid_result_knn.best_score_, grid_result_knn.best_params_))\n"
   ]
  },
  {
   "cell_type": "code",
   "execution_count": 44,
   "id": "8490c5e7",
   "metadata": {},
   "outputs": [
    {
     "data": {
      "text/plain": [
       "KNeighborsClassifier(metric='manhattan')"
      ]
     },
     "execution_count": 44,
     "metadata": {},
     "output_type": "execute_result"
    }
   ],
   "source": [
    "# fitting the best parameters to new knn model \n",
    "knn = KNeighborsClassifier(n_neighbors = 5, weights = 'uniform',metric = 'manhattan')\n",
    "knn.fit(X_train_ss, y_train)"
   ]
  },
  {
   "cell_type": "code",
   "execution_count": 45,
   "id": "5754d21d",
   "metadata": {},
   "outputs": [
    {
     "name": "stdout",
     "output_type": "stream",
     "text": [
      "Training set accuracy:  0.9211684673869548\n",
      "Test set accuracy:  0.39568345323741005\n"
     ]
    }
   ],
   "source": [
    "#Accuracy of the training set with the knn evaluator\n",
    "y_hat = knn.predict(X_train_ss)\n",
    "y_knn = knn.predict(X_test)\n",
    "print('Training set accuracy: ', metrics.accuracy_score(y_train, y_hat))\n",
    "print('Test set accuracy: ',metrics.accuracy_score(y_test, y_knn))"
   ]
  },
  {
   "cell_type": "code",
   "execution_count": 46,
   "id": "284aec96",
   "metadata": {},
   "outputs": [
    {
     "name": "stdout",
     "output_type": "stream",
     "text": [
      "[[224 485]\n",
      " [ 19 106]]\n"
     ]
    }
   ],
   "source": [
    "#creating the confusion matrix of improved knn model\n",
    "print(confusion_matrix(y_test, y_knn))"
   ]
  },
  {
   "cell_type": "code",
   "execution_count": 47,
   "id": "f8d708ec",
   "metadata": {},
   "outputs": [
    {
     "name": "stdout",
     "output_type": "stream",
     "text": [
      "              precision    recall  f1-score   support\n",
      "\n",
      "           0       0.92      0.32      0.47       709\n",
      "           1       0.18      0.85      0.30       125\n",
      "\n",
      "    accuracy                           0.40       834\n",
      "   macro avg       0.55      0.58      0.38       834\n",
      "weighted avg       0.81      0.40      0.44       834\n",
      "\n"
     ]
    }
   ],
   "source": [
    "#classification report of the improved knn model\n",
    "print(classification_report(y_test, y_knn))"
   ]
  },
  {
   "cell_type": "code",
   "execution_count": 48,
   "id": "45d7fa7c",
   "metadata": {},
   "outputs": [
    {
     "name": "stdout",
     "output_type": "stream",
     "text": [
      "Model accuracy:  0.8817919868894382\n"
     ]
    }
   ],
   "source": [
    "#cross validate scores\n",
    "scores = cross_val_score(knn, X, y, cv =5)\n",
    "print('Model accuracy: ',np.mean(scores))"
   ]
  },
  {
   "cell_type": "code",
   "execution_count": 49,
   "id": "e58081e4",
   "metadata": {},
   "outputs": [],
   "source": [
    "#Scaling the predictive variables\n",
    "preds_knn = knn.predict(X_test_ss)\n",
    "probs_knn = knn.predict_proba(X_test_ss)"
   ]
  },
  {
   "cell_type": "code",
   "execution_count": 50,
   "id": "ff645e30",
   "metadata": {},
   "outputs": [
    {
     "name": "stdout",
     "output_type": "stream",
     "text": [
      "log loss:  1.0035985340534541\n",
      "accuracy:  0.894484412470024\n",
      "precision: 0.8936170212765957\n",
      "recall:    0.336\n"
     ]
    }
   ],
   "source": [
    "#Printing out the scores of log loss, accuracy, precision, and recall. \n",
    "print(\"log loss: \", log_loss(y_test, probs_knn))\n",
    "print(\"accuracy: \", accuracy_score(y_test, preds_knn))\n",
    "print(\"precision:\", precision_score(y_test, preds_knn))\n",
    "print(\"recall:   \", recall_score(y_test, preds_knn))"
   ]
  },
  {
   "cell_type": "markdown",
   "id": "59442557",
   "metadata": {},
   "source": [
    "This knn model has 89% accuracy. "
   ]
  },
  {
   "cell_type": "markdown",
   "id": "b568e9f2",
   "metadata": {},
   "source": [
    "## Random Forests"
   ]
  },
  {
   "cell_type": "code",
   "execution_count": 51,
   "id": "d310a218",
   "metadata": {},
   "outputs": [
    {
     "data": {
      "image/png": "[encoded data removed]",
      "text/plain": [
       "<Figure size 748.8x514.8 with 1 Axes>"
      ]
     },
     "metadata": {
      "needs_background": "light"
     },
     "output_type": "display_data"
    }
   ],
   "source": [
    "#plotting feature importance using random forests classifier\n",
    "feature_names = [f\"feature {i}\" for i in range(X.shape[1])]\n",
    "forest = RandomForestClassifier(random_state=0)\n",
    "forest.fit(X_train, y_train)\n",
    "\n",
    "importances = forest.feature_importances_\n",
    "feature_importance_df = pd.DataFrame(\n",
    "    forest.feature_importances_, \n",
    "    columns=['importance']\n",
    "    )\n",
    "\n",
    "# Add feature names.\n",
    "feature_importance_df['feature'] = X.columns\n",
    "\n",
    "# For vanity...\n",
    "feature_importance_df['feature'] = (\n",
    "    feature_importance_df['feature']\n",
    "    .apply(str.title)\n",
    "    )\n",
    "\n",
    "# Sort the data!\n",
    "feature_importance_df.sort_values('importance', inplace=True)\n",
    "feature_importance_df\n",
    "\n",
    "# Plot feature importances.\n",
    "with plt.style.context(['seaborn-talk']):\n",
    "    fig, ax = plt.subplots()\n",
    "    ax.barh(\n",
    "        y=feature_importance_df['feature'],\n",
    "        width=feature_importance_df['importance'],\n",
    "        color = ['#ff9999','#66b3ff','#99ff99','#ffcc99'],\n",
    "        )\n",
    "    ax.set(\n",
    "        title='Feature Importances\\n(Sorted By Length)',\n",
    "        xlabel='Importance',\n",
    "        ylabel='Feature'\n",
    "        )"
   ]
  },
  {
   "cell_type": "code",
   "execution_count": 52,
   "id": "dbd3a7b3",
   "metadata": {},
   "outputs": [
    {
     "data": {
      "image/png": "[encoded data removed]",
      "text/plain": [
       "<Figure size 432x288 with 1 Axes>"
      ]
     },
     "metadata": {},
     "output_type": "display_data"
    }
   ],
   "source": [
    "labels = feature_importance_df['feature']\n",
    "sizes = feature_importance_df['importance']\n",
    "colors = ['#ff9999','#66b3ff','#99ff99','#ffcc99']\n",
    "fig1, ax1 = plt.subplots()\n",
    "\n",
    "\n",
    "plt.pie(sizes, colors = colors, labels=labels, startangle=150, pctdistance=0.100)\n",
    "#draw circle\n",
    "centre_circle = plt.Circle((0,0),0.70,fc='white')\n",
    "fig = plt.gcf()\n",
    "fig.gca().add_artist(centre_circle)\n",
    "ax1.axis('equal')\n",
    "plt.tight_layout()\n",
    "plt.title('Feature Importances')\n",
    "plt.show()"
   ]
  },
  {
   "cell_type": "code",
   "execution_count": 53,
   "id": "cf8d3c91",
   "metadata": {},
   "outputs": [
    {
     "name": "stdout",
     "output_type": "stream",
     "text": [
      "Fitting 3 folds for each of 100 candidates, totalling 300 fits\n",
      "Best: 0.955582 using {'n_estimators': 400, 'min_samples_split': 5, 'min_samples_leaf': 1, 'max_features': 'auto', 'max_depth': 90, 'bootstrap': False}\n"
     ]
    }
   ],
   "source": [
    "#gridsearch for best parameters in random forest\n",
    "rf = RandomForestClassifier()   \n",
    "n_estimators = [int(x) for x in np.linspace(start = 200, stop = 2000, num = 10)]\n",
    "max_depth = [int(x) for x in np.linspace(10, 110, num = 11)]\n",
    "max_depth.append(None)\n",
    "max_features = ['auto', 'sqrt']\n",
    "min_samples_leaf = [1, 2, 4]\n",
    "bootstrap = [True, False]\n",
    "min_samples_split = [2, 5, 10]\n",
    "random_grid = {'n_estimators': n_estimators,\n",
    "               'max_features': max_features,\n",
    "               'max_depth': max_depth,\n",
    "               'min_samples_split': min_samples_split,\n",
    "               'min_samples_leaf': min_samples_leaf,\n",
    "               'bootstrap': bootstrap}\n",
    "\n",
    "\n",
    "rf_random = RandomizedSearchCV(estimator = rf, param_distributions = random_grid, n_iter = 100, cv = 3, verbose=2, random_state=42, n_jobs = -1)\n",
    "grid_result_rf = rf_random.fit(X_train_ss, y_train)\n",
    "# summarize results\n",
    "print(\"Best: %f using %s\" % (grid_result_rf.best_score_, grid_result_rf.best_params_))"
   ]
  },
  {
   "cell_type": "code",
   "execution_count": 54,
   "id": "5480765b",
   "metadata": {},
   "outputs": [
    {
     "data": {
      "text/plain": [
       "RandomForestClassifier(bootstrap=False, max_depth=60, max_features='sqrt',\n",
       "                       min_samples_split=5, n_estimators=800)"
      ]
     },
     "execution_count": 54,
     "metadata": {},
     "output_type": "execute_result"
    }
   ],
   "source": [
    "# fitting the best parameters to new rf model \n",
    "rf = RandomForestClassifier(n_estimators= 800, min_samples_split= 5, min_samples_leaf= 1, max_features= 'sqrt', max_depth= 60, bootstrap= False)\n",
    "rf.fit(X_train_ss, y_train)"
   ]
  },
  {
   "cell_type": "code",
   "execution_count": 55,
   "id": "3db6405b",
   "metadata": {},
   "outputs": [],
   "source": [
    "y_test_pred = grid_result_rf.predict(X_test_ss)"
   ]
  },
  {
   "cell_type": "code",
   "execution_count": 56,
   "id": "22f2c41f",
   "metadata": {},
   "outputs": [
    {
     "data": {
      "text/plain": [
       "737"
      ]
     },
     "execution_count": 56,
     "metadata": {},
     "output_type": "execute_result"
    }
   ],
   "source": [
    "(y_test_pred == 0).sum()"
   ]
  },
  {
   "cell_type": "code",
   "execution_count": 57,
   "id": "87715b73",
   "metadata": {},
   "outputs": [
    {
     "name": "stdout",
     "output_type": "stream",
     "text": [
      "Training set accuracy:  0.947242206235012\n"
     ]
    }
   ],
   "source": [
    "print('Training set accuracy: ', metrics.accuracy_score(y_test, y_test_pred))"
   ]
  },
  {
   "cell_type": "code",
   "execution_count": 58,
   "id": "8f094e69",
   "metadata": {},
   "outputs": [
    {
     "name": "stdout",
     "output_type": "stream",
     "text": [
      "Training set accuracy:  1.0\n",
      "Test set accuracy:  0.39448441247002397\n"
     ]
    }
   ],
   "source": [
    "#Accuracy of the training set with the rf evaluator\n",
    "y_hat_rf = rf.predict(X_train_ss)\n",
    "y_rf = rf.predict(X_test)\n",
    "print('Training set accuracy: ', metrics.accuracy_score(y_train, y_hat_rf))\n",
    "print('Test set accuracy: ',metrics.accuracy_score(y_test, y_rf))"
   ]
  },
  {
   "cell_type": "code",
   "execution_count": 59,
   "id": "3592d026",
   "metadata": {},
   "outputs": [
    {
     "name": "stdout",
     "output_type": "stream",
     "text": [
      "[[224 485]\n",
      " [ 20 105]]\n"
     ]
    }
   ],
   "source": [
    "#creating the confusion matrix of improved rf model\n",
    "print(confusion_matrix(y_test, y_rf))"
   ]
  },
  {
   "cell_type": "code",
   "execution_count": 60,
   "id": "27e4171f",
   "metadata": {},
   "outputs": [
    {
     "name": "stdout",
     "output_type": "stream",
     "text": [
      "              precision    recall  f1-score   support\n",
      "\n",
      "           0       0.92      0.32      0.47       709\n",
      "           1       0.18      0.84      0.29       125\n",
      "\n",
      "    accuracy                           0.39       834\n",
      "   macro avg       0.55      0.58      0.38       834\n",
      "weighted avg       0.81      0.39      0.44       834\n",
      "\n"
     ]
    }
   ],
   "source": [
    "#classification report of the improved rf model\n",
    "print(classification_report(y_test, y_rf))"
   ]
  },
  {
   "cell_type": "code",
   "execution_count": 61,
   "id": "3f9e81d4",
   "metadata": {
    "scrolled": true
   },
   "outputs": [
    {
     "name": "stdout",
     "output_type": "stream",
     "text": [
      "Model accuracy:  0.8817919868894382\n"
     ]
    }
   ],
   "source": [
    "#cross validate scores\n",
    "scores_rf = cross_val_score(rf, X, y, cv =5)\n",
    "print('Model accuracy: ',np.mean(scores))"
   ]
  },
  {
   "cell_type": "code",
   "execution_count": 62,
   "id": "65993012",
   "metadata": {},
   "outputs": [],
   "source": [
    "#Scaling the predictive variables\n",
    "preds_rf = rf.predict(X_test_ss)\n",
    "probs_rf = rf.predict_proba(X_test_ss)"
   ]
  },
  {
   "cell_type": "code",
   "execution_count": 65,
   "id": "f0193e7e",
   "metadata": {},
   "outputs": [
    {
     "name": "stdout",
     "output_type": "stream",
     "text": [
      "log loss:  0.1705432818020765\n",
      "accuracy:  0.9496402877697842\n",
      "precision: 0.9278350515463918\n",
      "recall:    0.72\n"
     ]
    }
   ],
   "source": [
    "#Printing out the scores of log loss, accuracy, precision, and recall. \n",
    "print(\"log loss: \", log_loss(y_test, probs_rf))\n",
    "print(\"accuracy: \", accuracy_score(y_test, preds_rf))\n",
    "print(\"precision:\", precision_score(y_test, preds_rf))\n",
    "print(\"recall:   \", recall_score(y_test, preds_rf))"
   ]
  },
  {
   "cell_type": "code",
   "execution_count": 66,
   "id": "12b9ab4d",
   "metadata": {},
   "outputs": [
    {
     "name": "stdout",
     "output_type": "stream",
     "text": [
      "[[702   7]\n",
      " [ 35  90]]\n"
     ]
    }
   ],
   "source": [
    "print(confusion_matrix(y_test, preds_rf))"
   ]
  },
  {
   "cell_type": "code",
   "execution_count": 109,
   "id": "2a9fd469",
   "metadata": {},
   "outputs": [],
   "source": [
    "models_tuned = {}\n",
    "\n",
    "# Logistic Regression\n",
    "models_tuned['Logistic Regression'] = LogisticRegression(class_weight='balanced', max_iter=20, random_state=1234,\n",
    "                   solver='newton-cg')\n",
    "\n",
    "# Random Forest\n",
    "models_tuned['Random Forest'] = RandomForestClassifier(n_estimators= 600, min_samples_split= 5, min_samples_leaf= 1, max_features= 'sqrt', max_depth= 60, bootstrap= False)\n",
    "\n",
    "\n",
    "# K-Nearest Neighbors\n",
    "models_tuned['K-Nearest Neighbor'] = KNeighborsClassifier(n_neighbors = 5, weights = 'uniform',metric = 'manhattan')"
   ]
  },
  {
   "cell_type": "code",
   "execution_count": 172,
   "id": "277fd84a",
   "metadata": {},
   "outputs": [],
   "source": [
    "#looking for accuracy, precision and recall scores within the models\n",
    "accuracy, precision, recall = {}, {}, {}\n",
    "\n",
    "for keys in models_tuned.keys():\n",
    "    \n",
    "    # Fit the classifier\n",
    "    models_tuned[keys].fit(X_train_ss, y_train)\n",
    "    \n",
    "    # Make predictions\n",
    "    predictions = models_tuned[keys].predict(X_test_ss)\n",
    "    \n",
    "    # Calculate metrics\n",
    "    accuracy[keys] = accuracy_score(predictions, y_test)\n",
    "    precision[keys] = precision_score(predictions, y_test)\n",
    "    recall[keys] = recall_score(predictions, y_test)\n",
    "    "
   ]
  },
  {
   "cell_type": "code",
   "execution_count": 176,
   "id": "715a6095",
   "metadata": {},
   "outputs": [
    {
     "name": "stdout",
     "output_type": "stream",
     "text": [
      "+---------------------+------------+-------------+----------+\n",
      "|                     |   Accuracy |   Precision |   Recall |\n",
      "+=====================+============+=============+==========+\n",
      "| Logistic Regression |   0.779376 |         nan |      nan |\n",
      "+---------------------+------------+-------------+----------+\n",
      "| Random Forest       |   0.950839 |         nan |      nan |\n",
      "+---------------------+------------+-------------+----------+\n",
      "| K-Nearest Neighbor  |   0.894484 |         nan |      nan |\n",
      "+---------------------+------------+-------------+----------+\n"
     ]
    },
    {
     "data": {
      "text/plain": [
       "<Figure size 432x288 with 0 Axes>"
      ]
     },
     "metadata": {},
     "output_type": "display_data"
    }
   ],
   "source": [
    "#printing out accuracy, precision, and recall scores from each of those models\n",
    "\n",
    "df_model_tuned = pd.DataFrame(index=models_tuned.keys(), columns=['Accuracy', 'Precision', 'Recall'])\n",
    "df_model_tuned['Accuracy'] = accuracy.values()\n",
    "\n",
    "columns=['Accuracy', 'Precision', 'Recall']\n",
    "\n",
    "\n",
    "hypertuned_models = (tabulate(df_model_tuned, headers = columns, tablefmt = 'grid'))\n",
    "print(hypertuned_models)\n",
    "\n",
    "plt.savefig('hypertuned_models.png')\n",
    "import dataframe_image as dfi\n",
    "dfi.export(df_model_tuned, \"hypertuned_models.png\")\n",
    "\n"
   ]
  },
  {
   "cell_type": "code",
   "execution_count": 217,
   "id": "de44360b",
   "metadata": {},
   "outputs": [
    {
     "name": "stdout",
     "output_type": "stream",
     "text": [
      "+---------------------+------------+--------------+----------+\n",
      "|                     |   Accuracy |    Precision |   Recall |\n",
      "+=====================+============+==============+==========+\n",
      "| Logistic Regression |   0.779376 |        0.784 | 0.384314 |\n",
      "+---------------------+------------+--------------+----------+\n",
      "| Random Forest       |   0.950839 |        0.728 | 0.928571 |\n",
      "+---------------------+------------+--------------+----------+\n",
      "| K-Nearest Neighbor  |   0.894484 |        0.336 | 0.893617 |\n",
      "+---------------------+------------+--------------+----------+\n"
     ]
    },
    {
     "data": {
      "text/plain": [
       "<Figure size 432x288 with 0 Axes>"
      ]
     },
     "metadata": {},
     "output_type": "display_data"
    }
   ],
   "source": [
    "from pandas.plotting import table \n",
    "import dataframe_image as dfi\n",
    "\n",
    "df_model_tuned = pd.DataFrame(index=models_tuned.keys(), columns=['Accuracy', 'Precision', 'Recall'])\n",
    "df_model_tuned['Accuracy'] = accuracy.values()\n",
    "df_model_tuned['Precision'] = precision.values()\n",
    "df_model_tuned['Recall'] = recall.values()\n",
    "\n",
    "columns=['Accuracy', ' Precision', 'Recall']\n",
    "\n",
    "\n",
    "hypertuned_models = (tabulate(df_model_tuned, headers = columns, tablefmt=\"grid\"))\n",
    "print(hypertuned_models)\n",
    "\n",
    "plt.savefig('hypertuned_models.png')\n",
    "dfi.export(df_model_tuned, \"hypertuned_models.png\")"
   ]
  },
  {
   "cell_type": "code",
   "execution_count": 214,
   "id": "d3c77a02",
   "metadata": {},
   "outputs": [
    {
     "ename": "AttributeError",
     "evalue": "'str' object has no attribute 'export_png'",
     "output_type": "error",
     "traceback": [
      "\u001b[1;31m---------------------------------------------------------------------------\u001b[0m",
      "\u001b[1;31mAttributeError\u001b[0m                            Traceback (most recent call last)",
      "\u001b[1;32m~\\AppData\\Local\\Temp/ipykernel_11696/2936946379.py\u001b[0m in \u001b[0;36m<module>\u001b[1;34m\u001b[0m\n\u001b[0;32m      1\u001b[0m \u001b[0mdf_model_tuned\u001b[0m\u001b[1;33m.\u001b[0m\u001b[0mdfi\u001b[0m\u001b[1;33m.\u001b[0m\u001b[0mexport\u001b[0m\u001b[1;33m(\u001b[0m\u001b[1;34m\"df_model_tuned.png\"\u001b[0m\u001b[1;33m)\u001b[0m\u001b[1;33m\u001b[0m\u001b[1;33m\u001b[0m\u001b[0m\n\u001b[1;32m----> 2\u001b[1;33m \u001b[0mhypertuned_models\u001b[0m\u001b[1;33m.\u001b[0m\u001b[0mexport_png\u001b[0m\u001b[1;33m(\u001b[0m\u001b[1;34m'hypertuned_models.png'\u001b[0m\u001b[1;33m)\u001b[0m\u001b[1;33m\u001b[0m\u001b[1;33m\u001b[0m\u001b[0m\n\u001b[0m\u001b[0;32m      3\u001b[0m \u001b[1;33m\u001b[0m\u001b[0m\n\u001b[0;32m      4\u001b[0m \u001b[1;33m\u001b[0m\u001b[0m\n\u001b[0;32m      5\u001b[0m \u001b[1;33m\u001b[0m\u001b[0m\n",
      "\u001b[1;31mAttributeError\u001b[0m: 'str' object has no attribute 'export_png'"
     ]
    }
   ],
   "source": [
    "df_model_tuned.dfi.export(\"df_model_tuned.png\")\n",
    "hypertuned_models.export_png('hypertuned_models.png')\n",
    "\n",
    "\n",
    "                     \n",
    "plt.savefig('hypertuned_models.png')\n",
    "dfi.export(df_model_tuned, \"hypertuned_models.png\")\n"
   ]
  },
  {
   "cell_type": "code",
   "execution_count": 147,
   "id": "6bfafd13",
   "metadata": {},
   "outputs": [
    {
     "data": {
      "image/png": "[encoded data removed]",
      "text/plain": [
       "<Figure size 432x288 with 1 Axes>"
      ]
     },
     "metadata": {
      "needs_background": "light"
     },
     "output_type": "display_data"
    }
   ],
   "source": [
    "#Plotting the accuracy, precision and recall scores of the models\n",
    "ax = df_model_tuned.plot.barh()\n",
    "ax.set_title('Hypertuned Model Comparison')\n",
    "ax.set_xlabel('Accuracy')\n",
    "ax.set_ylabel('Models')\n",
    "ax.legend(\n",
    "    ncol=len(models_tuned.keys()), \n",
    "    \n",
    ")\n",
    "plt.tight_layout()"
   ]
  },
  {
   "cell_type": "markdown",
   "id": "f23bf8a2",
   "metadata": {},
   "source": [
    "## Creating New Data to Evaluate Models"
   ]
  },
  {
   "cell_type": "code",
   "execution_count": 178,
   "id": "95c085c3",
   "metadata": {},
   "outputs": [
    {
     "name": "stdout",
     "output_type": "stream",
     "text": [
      "54.46738920237142\n"
     ]
    },
    {
     "data": {
      "text/plain": [
       "152.7750975097509"
      ]
     },
     "execution_count": 178,
     "metadata": {},
     "output_type": "execute_result"
    }
   ],
   "source": [
    "df.head()\n",
    "print(df[\"total day minutes\"].std())\n",
    "df_new = df.copy()\n",
    "df_new[\"total day minutes\"] = df_new[\"total day minutes\"] - 27\n",
    "\n",
    "df_new[\"total day minutes\"].mean()"
   ]
  },
  {
   "cell_type": "code",
   "execution_count": 179,
   "id": "bdc302b9",
   "metadata": {},
   "outputs": [
    {
     "data": {
      "text/html": [
       "<div>\n",
       "<style scoped>\n",
       "    .dataframe tbody tr th:only-of-type {\n",
       "        vertical-align: middle;\n",
       "    }\n",
       "\n",
       "    .dataframe tbody tr th {\n",
       "        vertical-align: top;\n",
       "    }\n",
       "\n",
       "    .dataframe thead th {\n",
       "        text-align: right;\n",
       "    }\n",
       "</style>\n",
       "<table border=\"1\" class=\"dataframe\">\n",
       "  <thead>\n",
       "    <tr style=\"text-align: right;\">\n",
       "      <th></th>\n",
       "      <th>account length</th>\n",
       "      <th>international plan</th>\n",
       "      <th>voice mail plan</th>\n",
       "      <th>number vmail messages</th>\n",
       "      <th>total day minutes</th>\n",
       "      <th>total day calls</th>\n",
       "      <th>total day charge</th>\n",
       "      <th>total eve minutes</th>\n",
       "      <th>total eve calls</th>\n",
       "      <th>total eve charge</th>\n",
       "      <th>total night minutes</th>\n",
       "      <th>total night calls</th>\n",
       "      <th>total night charge</th>\n",
       "      <th>total intl minutes</th>\n",
       "      <th>total intl calls</th>\n",
       "      <th>total intl charge</th>\n",
       "      <th>customer service calls</th>\n",
       "      <th>churn</th>\n",
       "    </tr>\n",
       "  </thead>\n",
       "  <tbody>\n",
       "    <tr>\n",
       "      <th>0</th>\n",
       "      <td>128</td>\n",
       "      <td>0</td>\n",
       "      <td>1</td>\n",
       "      <td>25</td>\n",
       "      <td>238.1</td>\n",
       "      <td>110</td>\n",
       "      <td>45.07</td>\n",
       "      <td>197.4</td>\n",
       "      <td>99</td>\n",
       "      <td>16.78</td>\n",
       "      <td>244.7</td>\n",
       "      <td>91</td>\n",
       "      <td>11.01</td>\n",
       "      <td>10.0</td>\n",
       "      <td>3</td>\n",
       "      <td>2.70</td>\n",
       "      <td>1</td>\n",
       "      <td>False</td>\n",
       "    </tr>\n",
       "    <tr>\n",
       "      <th>1</th>\n",
       "      <td>107</td>\n",
       "      <td>0</td>\n",
       "      <td>1</td>\n",
       "      <td>26</td>\n",
       "      <td>134.6</td>\n",
       "      <td>123</td>\n",
       "      <td>27.47</td>\n",
       "      <td>195.5</td>\n",
       "      <td>103</td>\n",
       "      <td>16.62</td>\n",
       "      <td>254.4</td>\n",
       "      <td>103</td>\n",
       "      <td>11.45</td>\n",
       "      <td>13.7</td>\n",
       "      <td>3</td>\n",
       "      <td>3.70</td>\n",
       "      <td>1</td>\n",
       "      <td>False</td>\n",
       "    </tr>\n",
       "    <tr>\n",
       "      <th>2</th>\n",
       "      <td>137</td>\n",
       "      <td>0</td>\n",
       "      <td>0</td>\n",
       "      <td>0</td>\n",
       "      <td>216.4</td>\n",
       "      <td>114</td>\n",
       "      <td>41.38</td>\n",
       "      <td>121.2</td>\n",
       "      <td>110</td>\n",
       "      <td>10.30</td>\n",
       "      <td>162.6</td>\n",
       "      <td>104</td>\n",
       "      <td>7.32</td>\n",
       "      <td>12.2</td>\n",
       "      <td>5</td>\n",
       "      <td>3.29</td>\n",
       "      <td>0</td>\n",
       "      <td>False</td>\n",
       "    </tr>\n",
       "    <tr>\n",
       "      <th>3</th>\n",
       "      <td>84</td>\n",
       "      <td>1</td>\n",
       "      <td>0</td>\n",
       "      <td>0</td>\n",
       "      <td>272.4</td>\n",
       "      <td>71</td>\n",
       "      <td>50.90</td>\n",
       "      <td>61.9</td>\n",
       "      <td>88</td>\n",
       "      <td>5.26</td>\n",
       "      <td>196.9</td>\n",
       "      <td>89</td>\n",
       "      <td>8.86</td>\n",
       "      <td>6.6</td>\n",
       "      <td>7</td>\n",
       "      <td>1.78</td>\n",
       "      <td>2</td>\n",
       "      <td>False</td>\n",
       "    </tr>\n",
       "    <tr>\n",
       "      <th>4</th>\n",
       "      <td>75</td>\n",
       "      <td>1</td>\n",
       "      <td>0</td>\n",
       "      <td>0</td>\n",
       "      <td>139.7</td>\n",
       "      <td>113</td>\n",
       "      <td>28.34</td>\n",
       "      <td>148.3</td>\n",
       "      <td>122</td>\n",
       "      <td>12.61</td>\n",
       "      <td>186.9</td>\n",
       "      <td>121</td>\n",
       "      <td>8.41</td>\n",
       "      <td>10.1</td>\n",
       "      <td>3</td>\n",
       "      <td>2.73</td>\n",
       "      <td>3</td>\n",
       "      <td>False</td>\n",
       "    </tr>\n",
       "  </tbody>\n",
       "</table>\n",
       "</div>"
      ],
      "text/plain": [
       "   account length  international plan  voice mail plan  number vmail messages  \\\n",
       "0             128                   0                1                     25   \n",
       "1             107                   0                1                     26   \n",
       "2             137                   0                0                      0   \n",
       "3              84                   1                0                      0   \n",
       "4              75                   1                0                      0   \n",
       "\n",
       "   total day minutes  total day calls  total day charge  total eve minutes  \\\n",
       "0              238.1              110             45.07              197.4   \n",
       "1              134.6              123             27.47              195.5   \n",
       "2              216.4              114             41.38              121.2   \n",
       "3              272.4               71             50.90               61.9   \n",
       "4              139.7              113             28.34              148.3   \n",
       "\n",
       "   total eve calls  total eve charge  total night minutes  total night calls  \\\n",
       "0               99             16.78                244.7                 91   \n",
       "1              103             16.62                254.4                103   \n",
       "2              110             10.30                162.6                104   \n",
       "3               88              5.26                196.9                 89   \n",
       "4              122             12.61                186.9                121   \n",
       "\n",
       "   total night charge  total intl minutes  total intl calls  \\\n",
       "0               11.01                10.0                 3   \n",
       "1               11.45                13.7                 3   \n",
       "2                7.32                12.2                 5   \n",
       "3                8.86                 6.6                 7   \n",
       "4                8.41                10.1                 3   \n",
       "\n",
       "   total intl charge  customer service calls  churn  \n",
       "0               2.70                       1  False  \n",
       "1               3.70                       1  False  \n",
       "2               3.29                       0  False  \n",
       "3               1.78                       2  False  \n",
       "4               2.73                       3  False  "
      ]
     },
     "execution_count": 179,
     "metadata": {},
     "output_type": "execute_result"
    }
   ],
   "source": [
    "df_new.head()"
   ]
  },
  {
   "cell_type": "code",
   "execution_count": 180,
   "id": "f4c7fe9c",
   "metadata": {},
   "outputs": [],
   "source": [
    "#create training sets to start modeling and prediction upon the data\n",
    "y = churn.astype(int)\n",
    "X = df_new.drop(columns=['churn', 'total day charge'], axis=1)\n",
    "X_train, X_test, y_train, y_test = train_test_split(\n",
    "    X, y, test_size=0.25, random_state=42)\n",
    "#Normalize the data to prevent leakage\n",
    "ss = StandardScaler()\n",
    "X_train_new = ss.fit_transform(X_train)\n",
    "\n",
    "X_test_new = ss.transform(X_test)"
   ]
  },
  {
   "cell_type": "code",
   "execution_count": 181,
   "id": "aedb6c7e",
   "metadata": {},
   "outputs": [],
   "source": [
    "df_new[\"total day minutes\"] = 30  "
   ]
  },
  {
   "cell_type": "code",
   "execution_count": 200,
   "id": "37030c8f",
   "metadata": {},
   "outputs": [
    {
     "data": {
      "image/png": "[encoded data removed]",
      "text/plain": [
       "<Figure size 432x288 with 1 Axes>"
      ]
     },
     "metadata": {
      "needs_background": "light"
     },
     "output_type": "display_data"
    }
   ],
   "source": [
    "fig , ax = plt.subplots(figsize=(6,4))\n",
    "sns.countplot(x='churn', data=df_new)\n",
    "plt.title(\"Number of Churned\")\n",
    "plt.show()\n"
   ]
  },
  {
   "cell_type": "code",
   "execution_count": 182,
   "id": "27399885",
   "metadata": {},
   "outputs": [
    {
     "name": "stdout",
     "output_type": "stream",
     "text": [
      "54.46738920237142\n"
     ]
    }
   ],
   "source": [
    "df.head()\n",
    "print(df[\"total day minutes\"].std())\n",
    "df_new = df.copy()\n",
    "df_new[\"total day minutes\"] = df_new[\"total day minutes\"] - 27"
   ]
  },
  {
   "cell_type": "code",
   "execution_count": 183,
   "id": "1b657986",
   "metadata": {},
   "outputs": [
    {
     "data": {
      "text/plain": [
       "152.7750975097509"
      ]
     },
     "execution_count": 183,
     "metadata": {},
     "output_type": "execute_result"
    }
   ],
   "source": [
    "df_new[\"total day minutes\"].mean()"
   ]
  },
  {
   "cell_type": "code",
   "execution_count": 184,
   "id": "2507c2c6",
   "metadata": {
    "scrolled": true
   },
   "outputs": [
    {
     "data": {
      "text/plain": [
       "account length            102.705036\n",
       "international plan          0.097122\n",
       "voice mail plan             0.290168\n",
       "number vmail messages       8.438849\n",
       "total day minutes         152.083573\n",
       "total day calls           100.425659\n",
       "total eve minutes         201.305396\n",
       "total eve calls           100.621103\n",
       "total eve charge           17.111103\n",
       "total night minutes       201.624101\n",
       "total night calls         100.719424\n",
       "total night charge          9.073297\n",
       "total intl minutes         10.176259\n",
       "total intl calls            4.576739\n",
       "total intl charge           2.748094\n",
       "customer service calls      1.545564\n",
       "dtype: float64"
      ]
     },
     "execution_count": 184,
     "metadata": {},
     "output_type": "execute_result"
    }
   ],
   "source": [
    "X_test.mean()"
   ]
  },
  {
   "cell_type": "code",
   "execution_count": 185,
   "id": "a24ab6eb",
   "metadata": {},
   "outputs": [
    {
     "name": "stdout",
     "output_type": "stream",
     "text": [
      "Fitting 3 folds for each of 100 candidates, totalling 300 fits\n"
     ]
    }
   ],
   "source": [
    "grid_result_rf_new = rf_random.fit(X_train_new, y_train)"
   ]
  },
  {
   "cell_type": "code",
   "execution_count": 199,
   "id": "66c41f4f",
   "metadata": {},
   "outputs": [],
   "source": [
    "#(y_test_pred_new_2 == 0).sum()"
   ]
  },
  {
   "cell_type": "code",
   "execution_count": 188,
   "id": "71e27cc3",
   "metadata": {},
   "outputs": [],
   "source": [
    "#create training sets to start modeling and prediction upon the data\n",
    "y = churn.astype(int)\n",
    "X = df_new.drop(columns=['churn'], axis=1)\n",
    "X_train, X_test, y_train, y_test = train_test_split(\n",
    "    X, y, test_size=0.25, random_state=42)\n",
    "#Normalize the data to prevent leakage\n",
    "ss = StandardScaler()\n",
    "X_train_ss = ss.fit_transform(X_train)\n",
    "\n",
    "X_test_ss = ss.transform(X_test)\n"
   ]
  },
  {
   "cell_type": "code",
   "execution_count": 189,
   "id": "02656bf4",
   "metadata": {},
   "outputs": [],
   "source": [
    "y_test_pred_new_2 = grid_result_rf_new.predict(X_test_new)"
   ]
  },
  {
   "cell_type": "code",
   "execution_count": 190,
   "id": "80ca8a5a",
   "metadata": {},
   "outputs": [],
   "source": [
    "#Normalize the data to prevent leakage\n",
    "ss = StandardScaler()\n",
    "X_train_ss = ss.fit_transform(X_train)\n",
    "\n",
    "X_test_ss = ss.transform(X_test)\n"
   ]
  },
  {
   "cell_type": "code",
   "execution_count": 191,
   "id": "1819b552",
   "metadata": {},
   "outputs": [],
   "source": [
    "y_predict_new = rf.predict(X_train_ss)"
   ]
  },
  {
   "cell_type": "code",
   "execution_count": 192,
   "id": "bce4399a",
   "metadata": {},
   "outputs": [
    {
     "name": "stdout",
     "output_type": "stream",
     "text": [
      "% of people who did churn from dataset:  14.491449144914492\n",
      "% of people who did not churn from dataset:  85.5085508550855\n"
     ]
    }
   ],
   "source": [
    "n=len(df)\n",
    "surv_0=len(df_new[df_new['churn']==0])\n",
    "surv_1=len(df_new[df_new['churn']==1])\n",
    "\n",
    "print(\"% of people who did churn from dataset: \",surv_1*100/n)\n",
    "print(\"% of people who did not churn from dataset: \",surv_0*100/n)"
   ]
  },
  {
   "cell_type": "code",
   "execution_count": 193,
   "id": "7e0911cd",
   "metadata": {},
   "outputs": [
    {
     "name": "stdout",
     "output_type": "stream",
     "text": [
      "54.46738920237142\n"
     ]
    }
   ],
   "source": [
    "#creating dataframe with a std less total day minutes\n",
    "df.head()\n",
    "print(df[\"total day minutes\"].std())\n",
    "df_new_1std = df.copy()\n",
    "df_new_1std[\"total day minutes\"] = df_new[\"total day minutes\"] - 54"
   ]
  },
  {
   "cell_type": "code",
   "execution_count": 194,
   "id": "7abefc61",
   "metadata": {},
   "outputs": [],
   "source": [
    "#create training sets to start modeling and prediction upon the data\n",
    "y = churn.astype(int)\n",
    "X = df_new_1std.drop(columns=['churn'], axis=1)\n",
    "X_train, X_test, y_train, y_test = train_test_split(\n",
    "    X, y, test_size=0.25, random_state=42)"
   ]
  },
  {
   "cell_type": "code",
   "execution_count": 195,
   "id": "95140705",
   "metadata": {},
   "outputs": [],
   "source": [
    "#Normalize the data to prevent leakage\n",
    "ss = StandardScaler()\n",
    "X_train_ss = ss.fit_transform(X_train)\n",
    "\n",
    "X_test_ss = ss.transform(X_test)"
   ]
  },
  {
   "cell_type": "code",
   "execution_count": 196,
   "id": "cfb993bf",
   "metadata": {},
   "outputs": [],
   "source": [
    "y_predict_new_1std = rf.predict(X_train_ss)"
   ]
  },
  {
   "cell_type": "code",
   "execution_count": 197,
   "id": "c29e00c8",
   "metadata": {},
   "outputs": [
    {
     "ename": "TypeError",
     "evalue": "'numpy.ndarray' object is not callable",
     "output_type": "error",
     "traceback": [
      "\u001b[1;31m---------------------------------------------------------------------------\u001b[0m",
      "\u001b[1;31mTypeError\u001b[0m                                 Traceback (most recent call last)",
      "\u001b[1;32m~\\AppData\\Local\\Temp/ipykernel_11696/3050664441.py\u001b[0m in \u001b[0;36m<module>\u001b[1;34m\u001b[0m\n\u001b[1;32m----> 1\u001b[1;33m \u001b[0mpreds_rf\u001b[0m \u001b[1;33m=\u001b[0m \u001b[0my_predict_new_1std\u001b[0m\u001b[1;33m(\u001b[0m\u001b[0mX_test_ss\u001b[0m\u001b[1;33m)\u001b[0m\u001b[1;33m\u001b[0m\u001b[1;33m\u001b[0m\u001b[0m\n\u001b[0m\u001b[0;32m      2\u001b[0m \u001b[0mprobs_rf\u001b[0m \u001b[1;33m=\u001b[0m \u001b[0my_predict_new_1std\u001b[0m\u001b[1;33m(\u001b[0m\u001b[0mX_test_ss\u001b[0m\u001b[1;33m)\u001b[0m\u001b[1;33m\u001b[0m\u001b[1;33m\u001b[0m\u001b[0m\n",
      "\u001b[1;31mTypeError\u001b[0m: 'numpy.ndarray' object is not callable"
     ]
    }
   ],
   "source": [
    "preds_rf = y_predict_new_1std(X_test_ss)\n",
    "probs_rf = y_predict_new_1std(X_test_ss)"
   ]
  },
  {
   "cell_type": "code",
   "execution_count": 198,
   "id": "3b329fa9",
   "metadata": {},
   "outputs": [
    {
     "data": {
      "image/png": "[encoded data removed]",
      "text/plain": [
       "<Figure size 432x288 with 1 Axes>"
      ]
     },
     "metadata": {
      "needs_background": "light"
     },
     "output_type": "display_data"
    }
   ],
   "source": [
    "fig , ax = plt.subplots(figsize=(6,4))\n",
    "sns.countplot(x='churn', data=df_new_1std)\n",
    "plt.title(\"Number of Churned\")\n",
    "plt.show()"
   ]
  },
  {
   "cell_type": "markdown",
   "id": "9406cb01",
   "metadata": {},
   "source": [
    "# Final Results"
   ]
  },
  {
   "cell_type": "markdown",
   "id": "8984bdcc",
   "metadata": {},
   "source": [
    "When finding a model to predict the amount of churning of customers from SyriaTel, we found that Random Forest was performing the best in accuracy overall.\n",
    "\n",
    "In order to use the best hyperparameters we utilized a gridsearch for three of the evaulation models in the dictionary of evaulation metrics first used against the data.\n",
    "\n",
    "We were not able to increase the performance of our models by too high of a percentage because the base models were already quite high. However, by using these hyperparameters chosen by gridsearch: n_estimators= 600, min_samples_split= 5, min_samples_leaf= 1, max_features= 'sqrt', max_depth= 60, bootstrap= False the final random forest model had 89% accuracy, 89% precision and 34% recall. "
   ]
  },
  {
   "cell_type": "code",
   "execution_count": null,
   "id": "415c5033",
   "metadata": {},
   "outputs": [],
   "source": []
  }
 ],
 "metadata": {
  "kernelspec": {
   "display_name": "Python (learn-env)",
   "language": "python",
   "name": "learn-env"
  },
  "language_info": {
   "codemirror_mode": {
    "name": "ipython",
    "version": 3
   },
   "file_extension": ".py",
   "mimetype": "text/x-python",
   "name": "python",
   "nbconvert_exporter": "python",
   "pygments_lexer": "ipython3",
   "version": "3.9.7"
  }
 },
 "nbformat": 4,
 "nbformat_minor": 5
}
